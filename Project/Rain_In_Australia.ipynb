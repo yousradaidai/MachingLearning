{
 "cells": [
  {
   "cell_type": "markdown",
   "metadata": {
    "id": "TFWozf_Czb8P"
   },
   "source": [
    "### Importe les bibliothèques nécessaires:"
   ]
  },
  {
   "cell_type": "code",
   "execution_count": 21,
   "metadata": {
    "id": "uNoRgDcfzb8f"
   },
   "outputs": [],
   "source": [
    "import numpy as np\n",
    "import pandas as pd \n",
    "import seaborn as sns \n",
    "import sklearn as sklearn \n",
    "import matplotlib.pyplot as plt\n",
    "\n",
    "import warnings\n",
    "warnings.simplefilter('ignore')"
   ]
  },
  {
   "cell_type": "markdown",
   "metadata": {
    "id": "vUOFNfDxzb8m"
   },
   "source": [
    "# 1-Visualisation de données"
   ]
  },
  {
   "cell_type": "code",
   "execution_count": 22,
   "metadata": {
    "colab": {
     "base_uri": "https://localhost:8080/"
    },
    "id": "SO0DJexMzb8v",
    "outputId": "b2e89408-8c61-4d0a-91fe-c2194bbccd28"
   },
   "outputs": [
    {
     "data": {
      "text/plain": [
       "(145460, 23)"
      ]
     },
     "execution_count": 22,
     "metadata": {},
     "output_type": "execute_result"
    }
   ],
   "source": [
    "# (,) est un séparateur par defaut\n",
    "df = pd.read_csv('weatherAUS.csv')\n",
    "df.shape"
   ]
  },
  {
   "cell_type": "code",
   "execution_count": 23,
   "metadata": {
    "colab": {
     "base_uri": "https://localhost:8080/",
     "height": 226
    },
    "id": "8LbWBYz8zb89",
    "outputId": "ef59c6ca-1df3-45e2-8ee5-6e027aaa5a38"
   },
   "outputs": [
    {
     "data": {
      "text/html": [
       "<div>\n",
       "<style scoped>\n",
       "    .dataframe tbody tr th:only-of-type {\n",
       "        vertical-align: middle;\n",
       "    }\n",
       "\n",
       "    .dataframe tbody tr th {\n",
       "        vertical-align: top;\n",
       "    }\n",
       "\n",
       "    .dataframe thead th {\n",
       "        text-align: right;\n",
       "    }\n",
       "</style>\n",
       "<table border=\"1\" class=\"dataframe\">\n",
       "  <thead>\n",
       "    <tr style=\"text-align: right;\">\n",
       "      <th></th>\n",
       "      <th>Date</th>\n",
       "      <th>Location</th>\n",
       "      <th>MinTemp</th>\n",
       "      <th>MaxTemp</th>\n",
       "      <th>Rainfall</th>\n",
       "      <th>Evaporation</th>\n",
       "      <th>Sunshine</th>\n",
       "      <th>WindGustDir</th>\n",
       "      <th>WindGustSpeed</th>\n",
       "      <th>WindDir9am</th>\n",
       "      <th>...</th>\n",
       "      <th>Humidity9am</th>\n",
       "      <th>Humidity3pm</th>\n",
       "      <th>Pressure9am</th>\n",
       "      <th>Pressure3pm</th>\n",
       "      <th>Cloud9am</th>\n",
       "      <th>Cloud3pm</th>\n",
       "      <th>Temp9am</th>\n",
       "      <th>Temp3pm</th>\n",
       "      <th>RainToday</th>\n",
       "      <th>RainTomorrow</th>\n",
       "    </tr>\n",
       "  </thead>\n",
       "  <tbody>\n",
       "    <tr>\n",
       "      <th>0</th>\n",
       "      <td>2008-12-01</td>\n",
       "      <td>Albury</td>\n",
       "      <td>13.4</td>\n",
       "      <td>22.9</td>\n",
       "      <td>0.6</td>\n",
       "      <td>NaN</td>\n",
       "      <td>NaN</td>\n",
       "      <td>W</td>\n",
       "      <td>44.0</td>\n",
       "      <td>W</td>\n",
       "      <td>...</td>\n",
       "      <td>71.0</td>\n",
       "      <td>22.0</td>\n",
       "      <td>1007.7</td>\n",
       "      <td>1007.1</td>\n",
       "      <td>8.0</td>\n",
       "      <td>NaN</td>\n",
       "      <td>16.9</td>\n",
       "      <td>21.8</td>\n",
       "      <td>No</td>\n",
       "      <td>No</td>\n",
       "    </tr>\n",
       "    <tr>\n",
       "      <th>1</th>\n",
       "      <td>2008-12-02</td>\n",
       "      <td>Albury</td>\n",
       "      <td>7.4</td>\n",
       "      <td>25.1</td>\n",
       "      <td>0.0</td>\n",
       "      <td>NaN</td>\n",
       "      <td>NaN</td>\n",
       "      <td>WNW</td>\n",
       "      <td>44.0</td>\n",
       "      <td>NNW</td>\n",
       "      <td>...</td>\n",
       "      <td>44.0</td>\n",
       "      <td>25.0</td>\n",
       "      <td>1010.6</td>\n",
       "      <td>1007.8</td>\n",
       "      <td>NaN</td>\n",
       "      <td>NaN</td>\n",
       "      <td>17.2</td>\n",
       "      <td>24.3</td>\n",
       "      <td>No</td>\n",
       "      <td>No</td>\n",
       "    </tr>\n",
       "    <tr>\n",
       "      <th>2</th>\n",
       "      <td>2008-12-03</td>\n",
       "      <td>Albury</td>\n",
       "      <td>12.9</td>\n",
       "      <td>25.7</td>\n",
       "      <td>0.0</td>\n",
       "      <td>NaN</td>\n",
       "      <td>NaN</td>\n",
       "      <td>WSW</td>\n",
       "      <td>46.0</td>\n",
       "      <td>W</td>\n",
       "      <td>...</td>\n",
       "      <td>38.0</td>\n",
       "      <td>30.0</td>\n",
       "      <td>1007.6</td>\n",
       "      <td>1008.7</td>\n",
       "      <td>NaN</td>\n",
       "      <td>2.0</td>\n",
       "      <td>21.0</td>\n",
       "      <td>23.2</td>\n",
       "      <td>No</td>\n",
       "      <td>No</td>\n",
       "    </tr>\n",
       "    <tr>\n",
       "      <th>3</th>\n",
       "      <td>2008-12-04</td>\n",
       "      <td>Albury</td>\n",
       "      <td>9.2</td>\n",
       "      <td>28.0</td>\n",
       "      <td>0.0</td>\n",
       "      <td>NaN</td>\n",
       "      <td>NaN</td>\n",
       "      <td>NE</td>\n",
       "      <td>24.0</td>\n",
       "      <td>SE</td>\n",
       "      <td>...</td>\n",
       "      <td>45.0</td>\n",
       "      <td>16.0</td>\n",
       "      <td>1017.6</td>\n",
       "      <td>1012.8</td>\n",
       "      <td>NaN</td>\n",
       "      <td>NaN</td>\n",
       "      <td>18.1</td>\n",
       "      <td>26.5</td>\n",
       "      <td>No</td>\n",
       "      <td>No</td>\n",
       "    </tr>\n",
       "    <tr>\n",
       "      <th>4</th>\n",
       "      <td>2008-12-05</td>\n",
       "      <td>Albury</td>\n",
       "      <td>17.5</td>\n",
       "      <td>32.3</td>\n",
       "      <td>1.0</td>\n",
       "      <td>NaN</td>\n",
       "      <td>NaN</td>\n",
       "      <td>W</td>\n",
       "      <td>41.0</td>\n",
       "      <td>ENE</td>\n",
       "      <td>...</td>\n",
       "      <td>82.0</td>\n",
       "      <td>33.0</td>\n",
       "      <td>1010.8</td>\n",
       "      <td>1006.0</td>\n",
       "      <td>7.0</td>\n",
       "      <td>8.0</td>\n",
       "      <td>17.8</td>\n",
       "      <td>29.7</td>\n",
       "      <td>No</td>\n",
       "      <td>No</td>\n",
       "    </tr>\n",
       "  </tbody>\n",
       "</table>\n",
       "<p>5 rows × 23 columns</p>\n",
       "</div>"
      ],
      "text/plain": [
       "         Date Location  MinTemp  MaxTemp  Rainfall  Evaporation  Sunshine  \\\n",
       "0  2008-12-01   Albury     13.4     22.9       0.6          NaN       NaN   \n",
       "1  2008-12-02   Albury      7.4     25.1       0.0          NaN       NaN   \n",
       "2  2008-12-03   Albury     12.9     25.7       0.0          NaN       NaN   \n",
       "3  2008-12-04   Albury      9.2     28.0       0.0          NaN       NaN   \n",
       "4  2008-12-05   Albury     17.5     32.3       1.0          NaN       NaN   \n",
       "\n",
       "  WindGustDir  WindGustSpeed WindDir9am  ... Humidity9am  Humidity3pm  \\\n",
       "0           W           44.0          W  ...        71.0         22.0   \n",
       "1         WNW           44.0        NNW  ...        44.0         25.0   \n",
       "2         WSW           46.0          W  ...        38.0         30.0   \n",
       "3          NE           24.0         SE  ...        45.0         16.0   \n",
       "4           W           41.0        ENE  ...        82.0         33.0   \n",
       "\n",
       "   Pressure9am  Pressure3pm  Cloud9am  Cloud3pm  Temp9am  Temp3pm  RainToday  \\\n",
       "0       1007.7       1007.1       8.0       NaN     16.9     21.8         No   \n",
       "1       1010.6       1007.8       NaN       NaN     17.2     24.3         No   \n",
       "2       1007.6       1008.7       NaN       2.0     21.0     23.2         No   \n",
       "3       1017.6       1012.8       NaN       NaN     18.1     26.5         No   \n",
       "4       1010.8       1006.0       7.0       8.0     17.8     29.7         No   \n",
       "\n",
       "   RainTomorrow  \n",
       "0            No  \n",
       "1            No  \n",
       "2            No  \n",
       "3            No  \n",
       "4            No  \n",
       "\n",
       "[5 rows x 23 columns]"
      ]
     },
     "execution_count": 23,
     "metadata": {},
     "output_type": "execute_result"
    }
   ],
   "source": [
    "df.head()"
   ]
  },
  {
   "cell_type": "code",
   "execution_count": 24,
   "metadata": {
    "colab": {
     "base_uri": "https://localhost:8080/"
    },
    "id": "DyhZ8XEmzb9D",
    "outputId": "8b313fdb-f979-4763-c990-d8cef9f22cd4"
   },
   "outputs": [
    {
     "name": "stdout",
     "output_type": "stream",
     "text": [
      "<class 'pandas.core.frame.DataFrame'>\n",
      "RangeIndex: 145460 entries, 0 to 145459\n",
      "Data columns (total 23 columns):\n",
      " #   Column         Non-Null Count   Dtype  \n",
      "---  ------         --------------   -----  \n",
      " 0   Date           145460 non-null  object \n",
      " 1   Location       145460 non-null  object \n",
      " 2   MinTemp        143975 non-null  float64\n",
      " 3   MaxTemp        144199 non-null  float64\n",
      " 4   Rainfall       142199 non-null  float64\n",
      " 5   Evaporation    82670 non-null   float64\n",
      " 6   Sunshine       75625 non-null   float64\n",
      " 7   WindGustDir    135134 non-null  object \n",
      " 8   WindGustSpeed  135197 non-null  float64\n",
      " 9   WindDir9am     134894 non-null  object \n",
      " 10  WindDir3pm     141232 non-null  object \n",
      " 11  WindSpeed9am   143693 non-null  float64\n",
      " 12  WindSpeed3pm   142398 non-null  float64\n",
      " 13  Humidity9am    142806 non-null  float64\n",
      " 14  Humidity3pm    140953 non-null  float64\n",
      " 15  Pressure9am    130395 non-null  float64\n",
      " 16  Pressure3pm    130432 non-null  float64\n",
      " 17  Cloud9am       89572 non-null   float64\n",
      " 18  Cloud3pm       86102 non-null   float64\n",
      " 19  Temp9am        143693 non-null  float64\n",
      " 20  Temp3pm        141851 non-null  float64\n",
      " 21  RainToday      142199 non-null  object \n",
      " 22  RainTomorrow   142193 non-null  object \n",
      "dtypes: float64(16), object(7)\n",
      "memory usage: 25.5+ MB\n"
     ]
    }
   ],
   "source": [
    "df.info()"
   ]
  },
  {
   "cell_type": "code",
   "execution_count": 25,
   "metadata": {
    "colab": {
     "base_uri": "https://localhost:8080/"
    },
    "id": "X_u6LtWAzb9H",
    "outputId": "11a9ba71-b8c2-46f5-9b60-5e86777f7f17"
   },
   "outputs": [
    {
     "data": {
      "text/plain": [
       "Sunshine         69835\n",
       "Evaporation      62790\n",
       "Cloud3pm         59358\n",
       "Cloud9am         55888\n",
       "Pressure9am      15065\n",
       "Pressure3pm      15028\n",
       "WindDir9am       10566\n",
       "WindGustDir      10326\n",
       "WindGustSpeed    10263\n",
       "Humidity3pm       4507\n",
       "WindDir3pm        4228\n",
       "Temp3pm           3609\n",
       "RainTomorrow      3267\n",
       "Rainfall          3261\n",
       "RainToday         3261\n",
       "WindSpeed3pm      3062\n",
       "Humidity9am       2654\n",
       "Temp9am           1767\n",
       "WindSpeed9am      1767\n",
       "MinTemp           1485\n",
       "MaxTemp           1261\n",
       "Location             0\n",
       "Date                 0\n",
       "dtype: int64"
      ]
     },
     "execution_count": 25,
     "metadata": {},
     "output_type": "execute_result"
    }
   ],
   "source": [
    "#Trouver le nombre des valeurs null dans le dataset\n",
    "df.isnull().sum().sort_values(ascending=False)"
   ]
  },
  {
   "cell_type": "code",
   "execution_count": 26,
   "metadata": {
    "colab": {
     "base_uri": "https://localhost:8080/",
     "height": 770
    },
    "id": "fChddZRzzb9M",
    "outputId": "122903ec-1db2-4bb8-94e4-ed74dc4e439b"
   },
   "outputs": [
    {
     "data": {
      "text/html": [
       "<div>\n",
       "<style scoped>\n",
       "    .dataframe tbody tr th:only-of-type {\n",
       "        vertical-align: middle;\n",
       "    }\n",
       "\n",
       "    .dataframe tbody tr th {\n",
       "        vertical-align: top;\n",
       "    }\n",
       "\n",
       "    .dataframe thead th {\n",
       "        text-align: right;\n",
       "    }\n",
       "</style>\n",
       "<table border=\"1\" class=\"dataframe\">\n",
       "  <thead>\n",
       "    <tr style=\"text-align: right;\">\n",
       "      <th></th>\n",
       "      <th>type</th>\n",
       "    </tr>\n",
       "  </thead>\n",
       "  <tbody>\n",
       "    <tr>\n",
       "      <th>Date</th>\n",
       "      <td>object</td>\n",
       "    </tr>\n",
       "    <tr>\n",
       "      <th>Location</th>\n",
       "      <td>object</td>\n",
       "    </tr>\n",
       "    <tr>\n",
       "      <th>MinTemp</th>\n",
       "      <td>float64</td>\n",
       "    </tr>\n",
       "    <tr>\n",
       "      <th>MaxTemp</th>\n",
       "      <td>float64</td>\n",
       "    </tr>\n",
       "    <tr>\n",
       "      <th>Rainfall</th>\n",
       "      <td>float64</td>\n",
       "    </tr>\n",
       "    <tr>\n",
       "      <th>Evaporation</th>\n",
       "      <td>float64</td>\n",
       "    </tr>\n",
       "    <tr>\n",
       "      <th>Sunshine</th>\n",
       "      <td>float64</td>\n",
       "    </tr>\n",
       "    <tr>\n",
       "      <th>WindGustDir</th>\n",
       "      <td>object</td>\n",
       "    </tr>\n",
       "    <tr>\n",
       "      <th>WindGustSpeed</th>\n",
       "      <td>float64</td>\n",
       "    </tr>\n",
       "    <tr>\n",
       "      <th>WindDir9am</th>\n",
       "      <td>object</td>\n",
       "    </tr>\n",
       "    <tr>\n",
       "      <th>WindDir3pm</th>\n",
       "      <td>object</td>\n",
       "    </tr>\n",
       "    <tr>\n",
       "      <th>WindSpeed9am</th>\n",
       "      <td>float64</td>\n",
       "    </tr>\n",
       "    <tr>\n",
       "      <th>WindSpeed3pm</th>\n",
       "      <td>float64</td>\n",
       "    </tr>\n",
       "    <tr>\n",
       "      <th>Humidity9am</th>\n",
       "      <td>float64</td>\n",
       "    </tr>\n",
       "    <tr>\n",
       "      <th>Humidity3pm</th>\n",
       "      <td>float64</td>\n",
       "    </tr>\n",
       "    <tr>\n",
       "      <th>Pressure9am</th>\n",
       "      <td>float64</td>\n",
       "    </tr>\n",
       "    <tr>\n",
       "      <th>Pressure3pm</th>\n",
       "      <td>float64</td>\n",
       "    </tr>\n",
       "    <tr>\n",
       "      <th>Cloud9am</th>\n",
       "      <td>float64</td>\n",
       "    </tr>\n",
       "    <tr>\n",
       "      <th>Cloud3pm</th>\n",
       "      <td>float64</td>\n",
       "    </tr>\n",
       "    <tr>\n",
       "      <th>Temp9am</th>\n",
       "      <td>float64</td>\n",
       "    </tr>\n",
       "    <tr>\n",
       "      <th>Temp3pm</th>\n",
       "      <td>float64</td>\n",
       "    </tr>\n",
       "    <tr>\n",
       "      <th>RainToday</th>\n",
       "      <td>object</td>\n",
       "    </tr>\n",
       "    <tr>\n",
       "      <th>RainTomorrow</th>\n",
       "      <td>object</td>\n",
       "    </tr>\n",
       "  </tbody>\n",
       "</table>\n",
       "</div>"
      ],
      "text/plain": [
       "                  type\n",
       "Date            object\n",
       "Location        object\n",
       "MinTemp        float64\n",
       "MaxTemp        float64\n",
       "Rainfall       float64\n",
       "Evaporation    float64\n",
       "Sunshine       float64\n",
       "WindGustDir     object\n",
       "WindGustSpeed  float64\n",
       "WindDir9am      object\n",
       "WindDir3pm      object\n",
       "WindSpeed9am   float64\n",
       "WindSpeed3pm   float64\n",
       "Humidity9am    float64\n",
       "Humidity3pm    float64\n",
       "Pressure9am    float64\n",
       "Pressure3pm    float64\n",
       "Cloud9am       float64\n",
       "Cloud3pm       float64\n",
       "Temp9am        float64\n",
       "Temp3pm        float64\n",
       "RainToday       object\n",
       "RainTomorrow    object"
      ]
     },
     "execution_count": 26,
     "metadata": {},
     "output_type": "execute_result"
    }
   ],
   "source": [
    "# Afficher les types de colonnes\n",
    "dt_type = pd.DataFrame(df.dtypes,columns=['type'])\n",
    "dt_type"
   ]
  },
  {
   "cell_type": "code",
   "execution_count": 27,
   "metadata": {
    "colab": {
     "base_uri": "https://localhost:8080/",
     "height": 226
    },
    "id": "My-vCVhlzb9R",
    "outputId": "d9fbf291-eb7d-4ee0-c9c3-7711a994937e"
   },
   "outputs": [
    {
     "data": {
      "text/html": [
       "<div>\n",
       "<style scoped>\n",
       "    .dataframe tbody tr th:only-of-type {\n",
       "        vertical-align: middle;\n",
       "    }\n",
       "\n",
       "    .dataframe tbody tr th {\n",
       "        vertical-align: top;\n",
       "    }\n",
       "\n",
       "    .dataframe thead th {\n",
       "        text-align: right;\n",
       "    }\n",
       "</style>\n",
       "<table border=\"1\" class=\"dataframe\">\n",
       "  <thead>\n",
       "    <tr style=\"text-align: right;\">\n",
       "      <th></th>\n",
       "      <th>Date</th>\n",
       "      <th>Location</th>\n",
       "      <th>MinTemp</th>\n",
       "      <th>MaxTemp</th>\n",
       "      <th>Rainfall</th>\n",
       "      <th>Evaporation</th>\n",
       "      <th>Sunshine</th>\n",
       "      <th>WindGustDir</th>\n",
       "      <th>WindGustSpeed</th>\n",
       "      <th>WindDir9am</th>\n",
       "      <th>...</th>\n",
       "      <th>Humidity9am</th>\n",
       "      <th>Humidity3pm</th>\n",
       "      <th>Pressure9am</th>\n",
       "      <th>Pressure3pm</th>\n",
       "      <th>Cloud9am</th>\n",
       "      <th>Cloud3pm</th>\n",
       "      <th>Temp9am</th>\n",
       "      <th>Temp3pm</th>\n",
       "      <th>RainToday</th>\n",
       "      <th>RainTomorrow</th>\n",
       "    </tr>\n",
       "  </thead>\n",
       "  <tbody>\n",
       "    <tr>\n",
       "      <th>0</th>\n",
       "      <td>2008-12-01</td>\n",
       "      <td>Albury</td>\n",
       "      <td>13.4</td>\n",
       "      <td>22.9</td>\n",
       "      <td>0.6</td>\n",
       "      <td>NaN</td>\n",
       "      <td>NaN</td>\n",
       "      <td>W</td>\n",
       "      <td>44.0</td>\n",
       "      <td>W</td>\n",
       "      <td>...</td>\n",
       "      <td>71.0</td>\n",
       "      <td>22.0</td>\n",
       "      <td>1007.7</td>\n",
       "      <td>1007.1</td>\n",
       "      <td>8.0</td>\n",
       "      <td>NaN</td>\n",
       "      <td>16.9</td>\n",
       "      <td>21.8</td>\n",
       "      <td>No</td>\n",
       "      <td>No</td>\n",
       "    </tr>\n",
       "    <tr>\n",
       "      <th>1</th>\n",
       "      <td>2008-12-02</td>\n",
       "      <td>Albury</td>\n",
       "      <td>7.4</td>\n",
       "      <td>25.1</td>\n",
       "      <td>0.0</td>\n",
       "      <td>NaN</td>\n",
       "      <td>NaN</td>\n",
       "      <td>WNW</td>\n",
       "      <td>44.0</td>\n",
       "      <td>NNW</td>\n",
       "      <td>...</td>\n",
       "      <td>44.0</td>\n",
       "      <td>25.0</td>\n",
       "      <td>1010.6</td>\n",
       "      <td>1007.8</td>\n",
       "      <td>NaN</td>\n",
       "      <td>NaN</td>\n",
       "      <td>17.2</td>\n",
       "      <td>24.3</td>\n",
       "      <td>No</td>\n",
       "      <td>No</td>\n",
       "    </tr>\n",
       "    <tr>\n",
       "      <th>2</th>\n",
       "      <td>2008-12-03</td>\n",
       "      <td>Albury</td>\n",
       "      <td>12.9</td>\n",
       "      <td>25.7</td>\n",
       "      <td>0.0</td>\n",
       "      <td>NaN</td>\n",
       "      <td>NaN</td>\n",
       "      <td>WSW</td>\n",
       "      <td>46.0</td>\n",
       "      <td>W</td>\n",
       "      <td>...</td>\n",
       "      <td>38.0</td>\n",
       "      <td>30.0</td>\n",
       "      <td>1007.6</td>\n",
       "      <td>1008.7</td>\n",
       "      <td>NaN</td>\n",
       "      <td>2.0</td>\n",
       "      <td>21.0</td>\n",
       "      <td>23.2</td>\n",
       "      <td>No</td>\n",
       "      <td>No</td>\n",
       "    </tr>\n",
       "    <tr>\n",
       "      <th>3</th>\n",
       "      <td>2008-12-04</td>\n",
       "      <td>Albury</td>\n",
       "      <td>9.2</td>\n",
       "      <td>28.0</td>\n",
       "      <td>0.0</td>\n",
       "      <td>NaN</td>\n",
       "      <td>NaN</td>\n",
       "      <td>NE</td>\n",
       "      <td>24.0</td>\n",
       "      <td>SE</td>\n",
       "      <td>...</td>\n",
       "      <td>45.0</td>\n",
       "      <td>16.0</td>\n",
       "      <td>1017.6</td>\n",
       "      <td>1012.8</td>\n",
       "      <td>NaN</td>\n",
       "      <td>NaN</td>\n",
       "      <td>18.1</td>\n",
       "      <td>26.5</td>\n",
       "      <td>No</td>\n",
       "      <td>No</td>\n",
       "    </tr>\n",
       "    <tr>\n",
       "      <th>4</th>\n",
       "      <td>2008-12-05</td>\n",
       "      <td>Albury</td>\n",
       "      <td>17.5</td>\n",
       "      <td>32.3</td>\n",
       "      <td>1.0</td>\n",
       "      <td>NaN</td>\n",
       "      <td>NaN</td>\n",
       "      <td>W</td>\n",
       "      <td>41.0</td>\n",
       "      <td>ENE</td>\n",
       "      <td>...</td>\n",
       "      <td>82.0</td>\n",
       "      <td>33.0</td>\n",
       "      <td>1010.8</td>\n",
       "      <td>1006.0</td>\n",
       "      <td>7.0</td>\n",
       "      <td>8.0</td>\n",
       "      <td>17.8</td>\n",
       "      <td>29.7</td>\n",
       "      <td>No</td>\n",
       "      <td>No</td>\n",
       "    </tr>\n",
       "  </tbody>\n",
       "</table>\n",
       "<p>5 rows × 23 columns</p>\n",
       "</div>"
      ],
      "text/plain": [
       "         Date Location  MinTemp  MaxTemp  Rainfall  Evaporation  Sunshine  \\\n",
       "0  2008-12-01   Albury     13.4     22.9       0.6          NaN       NaN   \n",
       "1  2008-12-02   Albury      7.4     25.1       0.0          NaN       NaN   \n",
       "2  2008-12-03   Albury     12.9     25.7       0.0          NaN       NaN   \n",
       "3  2008-12-04   Albury      9.2     28.0       0.0          NaN       NaN   \n",
       "4  2008-12-05   Albury     17.5     32.3       1.0          NaN       NaN   \n",
       "\n",
       "  WindGustDir  WindGustSpeed WindDir9am  ... Humidity9am  Humidity3pm  \\\n",
       "0           W           44.0          W  ...        71.0         22.0   \n",
       "1         WNW           44.0        NNW  ...        44.0         25.0   \n",
       "2         WSW           46.0          W  ...        38.0         30.0   \n",
       "3          NE           24.0         SE  ...        45.0         16.0   \n",
       "4           W           41.0        ENE  ...        82.0         33.0   \n",
       "\n",
       "   Pressure9am  Pressure3pm  Cloud9am  Cloud3pm  Temp9am  Temp3pm  RainToday  \\\n",
       "0       1007.7       1007.1       8.0       NaN     16.9     21.8         No   \n",
       "1       1010.6       1007.8       NaN       NaN     17.2     24.3         No   \n",
       "2       1007.6       1008.7       NaN       2.0     21.0     23.2         No   \n",
       "3       1017.6       1012.8       NaN       NaN     18.1     26.5         No   \n",
       "4       1010.8       1006.0       7.0       8.0     17.8     29.7         No   \n",
       "\n",
       "   RainTomorrow  \n",
       "0            No  \n",
       "1            No  \n",
       "2            No  \n",
       "3            No  \n",
       "4            No  \n",
       "\n",
       "[5 rows x 23 columns]"
      ]
     },
     "execution_count": 27,
     "metadata": {},
     "output_type": "execute_result"
    }
   ],
   "source": [
    "df.head()"
   ]
  },
  {
   "cell_type": "code",
   "execution_count": 28,
   "metadata": {
    "colab": {
     "base_uri": "https://localhost:8080/"
    },
    "id": "SNF7JZP8zb9a",
    "outputId": "215a2881-b952-4e93-a772-dade366dc6b4"
   },
   "outputs": [
    {
     "data": {
      "text/plain": [
       "{'Adelaide',\n",
       " 'Albany',\n",
       " 'Albury',\n",
       " 'AliceSprings',\n",
       " 'BadgerysCreek',\n",
       " 'Ballarat',\n",
       " 'Bendigo',\n",
       " 'Brisbane',\n",
       " 'Cairns',\n",
       " 'Canberra',\n",
       " 'Cobar',\n",
       " 'CoffsHarbour',\n",
       " 'Dartmoor',\n",
       " 'Darwin',\n",
       " 'GoldCoast',\n",
       " 'Hobart',\n",
       " 'Katherine',\n",
       " 'Launceston',\n",
       " 'Melbourne',\n",
       " 'MelbourneAirport',\n",
       " 'Mildura',\n",
       " 'Moree',\n",
       " 'MountGambier',\n",
       " 'MountGinini',\n",
       " 'Newcastle',\n",
       " 'Nhil',\n",
       " 'NorahHead',\n",
       " 'NorfolkIsland',\n",
       " 'Nuriootpa',\n",
       " 'PearceRAAF',\n",
       " 'Penrith',\n",
       " 'Perth',\n",
       " 'PerthAirport',\n",
       " 'Portland',\n",
       " 'Richmond',\n",
       " 'Sale',\n",
       " 'SalmonGums',\n",
       " 'Sydney',\n",
       " 'SydneyAirport',\n",
       " 'Townsville',\n",
       " 'Tuggeranong',\n",
       " 'Uluru',\n",
       " 'WaggaWagga',\n",
       " 'Walpole',\n",
       " 'Watsonia',\n",
       " 'Williamtown',\n",
       " 'Witchcliffe',\n",
       " 'Wollongong',\n",
       " 'Woomera'}"
      ]
     },
     "execution_count": 28,
     "metadata": {},
     "output_type": "execute_result"
    }
   ],
   "source": [
    "set(df[\"Location\"])"
   ]
  },
  {
   "cell_type": "code",
   "execution_count": 29,
   "metadata": {
    "colab": {
     "base_uri": "https://localhost:8080/"
    },
    "id": "SlxZiV-zzb9f",
    "outputId": "86dbd7dd-b025-448b-d283-82d18fbd8a97"
   },
   "outputs": [
    {
     "data": {
      "text/plain": [
       "49"
      ]
     },
     "execution_count": 29,
     "metadata": {},
     "output_type": "execute_result"
    }
   ],
   "source": [
    "# Afficher le nombre des localisations\n",
    "df.Location.nunique()"
   ]
  },
  {
   "cell_type": "code",
   "execution_count": 30,
   "metadata": {
    "colab": {
     "base_uri": "https://localhost:8080/",
     "height": 342
    },
    "id": "SQBlbBWLzb9k",
    "outputId": "8e015219-70a0-45ed-8b4d-60a8a964bca7"
   },
   "outputs": [
    {
     "data": {
      "image/png": "[encoded data removed]",
      "text/plain": [
       "<Figure size 432x288 with 1 Axes>"
      ]
     },
     "metadata": {
      "needs_background": "light"
     },
     "output_type": "display_data"
    }
   ],
   "source": [
    "df[\"Location\"].value_counts().plot.bar()\n",
    "plt.show()\n",
    "# C'est une probabelité presque uniforme  "
   ]
  },
  {
   "cell_type": "code",
   "execution_count": 31,
   "metadata": {
    "colab": {
     "base_uri": "https://localhost:8080/",
     "height": 283
    },
    "id": "5OMLT17Rzb9n",
    "outputId": "5ee92a6d-b489-444c-d929-58f70b9a782e"
   },
   "outputs": [
    {
     "data": {
      "image/png": "[encoded data removed]",
      "text/plain": [
       "<Figure size 432x288 with 1 Axes>"
      ]
     },
     "metadata": {
      "needs_background": "light"
     },
     "output_type": "display_data"
    }
   ],
   "source": [
    "df[\"WindGustDir\"].value_counts().plot.bar()\n",
    "plt.show()\n"
   ]
  },
  {
   "cell_type": "code",
   "execution_count": 32,
   "metadata": {
    "id": "oewZxJ-lzb9s"
   },
   "outputs": [],
   "source": [
    "# remplir les valeurs manquantes pour les variables continues avec la moyenne (si c'est un flottant) ou le mode\n",
    "#On remarque que la date et la localisation n'ont pas des valeurs null\n",
    "\n",
    "df['MinTemp']=df['MinTemp'].fillna(df['MinTemp'].mean())\n",
    "df[\"MaxTemp\"]= df[\"MaxTemp\"].fillna(df[\"MaxTemp\"].mean())\n",
    "df[\"Evaporation\"]= df[\"Evaporation\"].fillna(df[\"Evaporation\"].mean())\n",
    "df[\"Sunshine\"]= df[\"Sunshine\"].fillna(df[\"Sunshine\"].mean())\n",
    "df[\"WindGustSpeed\"]= df[\"WindGustSpeed\"].fillna(df[\"WindGustSpeed\"].mean())\n",
    "df[\"Rainfall\"]= df[\"Rainfall\"].fillna(df[\"Rainfall\"].mean())\n",
    "df[\"WindSpeed9am\"]= df[\"WindSpeed9am\"].fillna(df[\"WindSpeed9am\"].mean())\n",
    "df[\"WindSpeed3pm\"]= df[\"WindSpeed3pm\"].fillna(df[\"WindSpeed3pm\"].mean())\n",
    "df[\"Humidity9am\"]= df[\"Humidity9am\"].fillna(df[\"Humidity9am\"].mean())\n",
    "df[\"Humidity3pm\"]= df[\"Humidity3pm\"].fillna(df[\"Humidity3pm\"].mean())\n",
    "df[\"Pressure9am\"]= df[\"Pressure9am\"].fillna(df[\"Pressure9am\"].mean())\n",
    "df[\"Pressure3pm\"]= df[\"Pressure3pm\"].fillna(df[\"Pressure3pm\"].mean())\n",
    "df[\"Cloud9am\"]= df[\"Cloud9am\"].fillna(df[\"Cloud9am\"].mean())\n",
    "df[\"Cloud3pm\"]= df[\"Cloud3pm\"].fillna(df[\"Cloud3pm\"].mean())\n",
    "df[\"Temp9am\"]= df[\"Temp9am\"].fillna(df[\"Temp9am\"].mean())\n",
    "df[\"Temp3pm\"]= df[\"Temp3pm\"].fillna(df[\"Temp3pm\"].mean())\n",
    "df['RainToday']=df['RainToday'].fillna(df['RainToday'].mode()[0])\n",
    "df['RainTomorrow']=df['RainTomorrow'].fillna(df['RainTomorrow'].mode()[0])\n",
    "df['WindDir9am'] = df['WindDir9am'].fillna(df['WindDir9am'].mode()[0])\n",
    "df['WindGustDir'] = df['WindGustDir'].fillna(df['WindGustDir'].mode()[0])\n",
    "df['WindDir3pm'] = df['WindDir3pm'].fillna(df['WindDir3pm'].mode()[0])"
   ]
  },
  {
   "cell_type": "code",
   "execution_count": null,
   "metadata": {
    "id": "bXa9fWPrzb9x"
   },
   "outputs": [],
   "source": []
  },
  {
   "cell_type": "code",
   "execution_count": 33,
   "metadata": {
    "colab": {
     "base_uri": "https://localhost:8080/",
     "height": 820
    },
    "id": "DxbiLseSzb9y",
    "outputId": "3c61a939-2af8-4e11-fc73-22cba06de85b"
   },
   "outputs": [
    {
     "data": {
      "text/html": [
       "<div>\n",
       "<style scoped>\n",
       "    .dataframe tbody tr th:only-of-type {\n",
       "        vertical-align: middle;\n",
       "    }\n",
       "\n",
       "    .dataframe tbody tr th {\n",
       "        vertical-align: top;\n",
       "    }\n",
       "\n",
       "    .dataframe thead th {\n",
       "        text-align: right;\n",
       "    }\n",
       "</style>\n",
       "<table border=\"1\" class=\"dataframe\">\n",
       "  <thead>\n",
       "    <tr style=\"text-align: right;\">\n",
       "      <th></th>\n",
       "      <th>0</th>\n",
       "      <th>1</th>\n",
       "      <th>2</th>\n",
       "      <th>3</th>\n",
       "      <th>4</th>\n",
       "      <th>5</th>\n",
       "      <th>6</th>\n",
       "      <th>7</th>\n",
       "      <th>8</th>\n",
       "      <th>9</th>\n",
       "      <th>...</th>\n",
       "      <th>145450</th>\n",
       "      <th>145451</th>\n",
       "      <th>145452</th>\n",
       "      <th>145453</th>\n",
       "      <th>145454</th>\n",
       "      <th>145455</th>\n",
       "      <th>145456</th>\n",
       "      <th>145457</th>\n",
       "      <th>145458</th>\n",
       "      <th>145459</th>\n",
       "    </tr>\n",
       "  </thead>\n",
       "  <tbody>\n",
       "    <tr>\n",
       "      <th>Date</th>\n",
       "      <td>2008-12-01</td>\n",
       "      <td>2008-12-02</td>\n",
       "      <td>2008-12-03</td>\n",
       "      <td>2008-12-04</td>\n",
       "      <td>2008-12-05</td>\n",
       "      <td>2008-12-06</td>\n",
       "      <td>2008-12-07</td>\n",
       "      <td>2008-12-08</td>\n",
       "      <td>2008-12-09</td>\n",
       "      <td>2008-12-10</td>\n",
       "      <td>...</td>\n",
       "      <td>2017-06-16</td>\n",
       "      <td>2017-06-17</td>\n",
       "      <td>2017-06-18</td>\n",
       "      <td>2017-06-19</td>\n",
       "      <td>2017-06-20</td>\n",
       "      <td>2017-06-21</td>\n",
       "      <td>2017-06-22</td>\n",
       "      <td>2017-06-23</td>\n",
       "      <td>2017-06-24</td>\n",
       "      <td>2017-06-25</td>\n",
       "    </tr>\n",
       "    <tr>\n",
       "      <th>Location</th>\n",
       "      <td>Albury</td>\n",
       "      <td>Albury</td>\n",
       "      <td>Albury</td>\n",
       "      <td>Albury</td>\n",
       "      <td>Albury</td>\n",
       "      <td>Albury</td>\n",
       "      <td>Albury</td>\n",
       "      <td>Albury</td>\n",
       "      <td>Albury</td>\n",
       "      <td>Albury</td>\n",
       "      <td>...</td>\n",
       "      <td>Uluru</td>\n",
       "      <td>Uluru</td>\n",
       "      <td>Uluru</td>\n",
       "      <td>Uluru</td>\n",
       "      <td>Uluru</td>\n",
       "      <td>Uluru</td>\n",
       "      <td>Uluru</td>\n",
       "      <td>Uluru</td>\n",
       "      <td>Uluru</td>\n",
       "      <td>Uluru</td>\n",
       "    </tr>\n",
       "    <tr>\n",
       "      <th>MinTemp</th>\n",
       "      <td>13.400000</td>\n",
       "      <td>7.400000</td>\n",
       "      <td>12.900000</td>\n",
       "      <td>9.200000</td>\n",
       "      <td>17.500000</td>\n",
       "      <td>14.600000</td>\n",
       "      <td>14.300000</td>\n",
       "      <td>7.700000</td>\n",
       "      <td>9.700000</td>\n",
       "      <td>13.100000</td>\n",
       "      <td>...</td>\n",
       "      <td>5.200000</td>\n",
       "      <td>6.400000</td>\n",
       "      <td>8.000000</td>\n",
       "      <td>7.400000</td>\n",
       "      <td>3.500000</td>\n",
       "      <td>2.800000</td>\n",
       "      <td>3.600000</td>\n",
       "      <td>5.400000</td>\n",
       "      <td>7.800000</td>\n",
       "      <td>14.900000</td>\n",
       "    </tr>\n",
       "    <tr>\n",
       "      <th>MaxTemp</th>\n",
       "      <td>22.900000</td>\n",
       "      <td>25.100000</td>\n",
       "      <td>25.700000</td>\n",
       "      <td>28.000000</td>\n",
       "      <td>32.300000</td>\n",
       "      <td>29.700000</td>\n",
       "      <td>25.000000</td>\n",
       "      <td>26.700000</td>\n",
       "      <td>31.900000</td>\n",
       "      <td>30.100000</td>\n",
       "      <td>...</td>\n",
       "      <td>24.300000</td>\n",
       "      <td>23.400000</td>\n",
       "      <td>20.700000</td>\n",
       "      <td>20.600000</td>\n",
       "      <td>21.800000</td>\n",
       "      <td>23.400000</td>\n",
       "      <td>25.300000</td>\n",
       "      <td>26.900000</td>\n",
       "      <td>27.000000</td>\n",
       "      <td>23.221348</td>\n",
       "    </tr>\n",
       "    <tr>\n",
       "      <th>Rainfall</th>\n",
       "      <td>0.600000</td>\n",
       "      <td>0.000000</td>\n",
       "      <td>0.000000</td>\n",
       "      <td>0.000000</td>\n",
       "      <td>1.000000</td>\n",
       "      <td>0.200000</td>\n",
       "      <td>0.000000</td>\n",
       "      <td>0.000000</td>\n",
       "      <td>0.000000</td>\n",
       "      <td>1.400000</td>\n",
       "      <td>...</td>\n",
       "      <td>0.000000</td>\n",
       "      <td>0.000000</td>\n",
       "      <td>0.000000</td>\n",
       "      <td>0.000000</td>\n",
       "      <td>0.000000</td>\n",
       "      <td>0.000000</td>\n",
       "      <td>0.000000</td>\n",
       "      <td>0.000000</td>\n",
       "      <td>0.000000</td>\n",
       "      <td>0.000000</td>\n",
       "    </tr>\n",
       "    <tr>\n",
       "      <th>Evaporation</th>\n",
       "      <td>5.468232</td>\n",
       "      <td>5.468232</td>\n",
       "      <td>5.468232</td>\n",
       "      <td>5.468232</td>\n",
       "      <td>5.468232</td>\n",
       "      <td>5.468232</td>\n",
       "      <td>5.468232</td>\n",
       "      <td>5.468232</td>\n",
       "      <td>5.468232</td>\n",
       "      <td>5.468232</td>\n",
       "      <td>...</td>\n",
       "      <td>5.468232</td>\n",
       "      <td>5.468232</td>\n",
       "      <td>5.468232</td>\n",
       "      <td>5.468232</td>\n",
       "      <td>5.468232</td>\n",
       "      <td>5.468232</td>\n",
       "      <td>5.468232</td>\n",
       "      <td>5.468232</td>\n",
       "      <td>5.468232</td>\n",
       "      <td>5.468232</td>\n",
       "    </tr>\n",
       "    <tr>\n",
       "      <th>Sunshine</th>\n",
       "      <td>7.611178</td>\n",
       "      <td>7.611178</td>\n",
       "      <td>7.611178</td>\n",
       "      <td>7.611178</td>\n",
       "      <td>7.611178</td>\n",
       "      <td>7.611178</td>\n",
       "      <td>7.611178</td>\n",
       "      <td>7.611178</td>\n",
       "      <td>7.611178</td>\n",
       "      <td>7.611178</td>\n",
       "      <td>...</td>\n",
       "      <td>7.611178</td>\n",
       "      <td>7.611178</td>\n",
       "      <td>7.611178</td>\n",
       "      <td>7.611178</td>\n",
       "      <td>7.611178</td>\n",
       "      <td>7.611178</td>\n",
       "      <td>7.611178</td>\n",
       "      <td>7.611178</td>\n",
       "      <td>7.611178</td>\n",
       "      <td>7.611178</td>\n",
       "    </tr>\n",
       "    <tr>\n",
       "      <th>WindGustDir</th>\n",
       "      <td>W</td>\n",
       "      <td>WNW</td>\n",
       "      <td>WSW</td>\n",
       "      <td>NE</td>\n",
       "      <td>W</td>\n",
       "      <td>WNW</td>\n",
       "      <td>W</td>\n",
       "      <td>W</td>\n",
       "      <td>NNW</td>\n",
       "      <td>W</td>\n",
       "      <td>...</td>\n",
       "      <td>E</td>\n",
       "      <td>ESE</td>\n",
       "      <td>ESE</td>\n",
       "      <td>E</td>\n",
       "      <td>E</td>\n",
       "      <td>E</td>\n",
       "      <td>NNW</td>\n",
       "      <td>N</td>\n",
       "      <td>SE</td>\n",
       "      <td>W</td>\n",
       "    </tr>\n",
       "    <tr>\n",
       "      <th>WindGustSpeed</th>\n",
       "      <td>44.000000</td>\n",
       "      <td>44.000000</td>\n",
       "      <td>46.000000</td>\n",
       "      <td>24.000000</td>\n",
       "      <td>41.000000</td>\n",
       "      <td>56.000000</td>\n",
       "      <td>50.000000</td>\n",
       "      <td>35.000000</td>\n",
       "      <td>80.000000</td>\n",
       "      <td>28.000000</td>\n",
       "      <td>...</td>\n",
       "      <td>24.000000</td>\n",
       "      <td>31.000000</td>\n",
       "      <td>41.000000</td>\n",
       "      <td>35.000000</td>\n",
       "      <td>31.000000</td>\n",
       "      <td>31.000000</td>\n",
       "      <td>22.000000</td>\n",
       "      <td>37.000000</td>\n",
       "      <td>28.000000</td>\n",
       "      <td>40.035230</td>\n",
       "    </tr>\n",
       "    <tr>\n",
       "      <th>WindDir9am</th>\n",
       "      <td>W</td>\n",
       "      <td>NNW</td>\n",
       "      <td>W</td>\n",
       "      <td>SE</td>\n",
       "      <td>ENE</td>\n",
       "      <td>W</td>\n",
       "      <td>SW</td>\n",
       "      <td>SSE</td>\n",
       "      <td>SE</td>\n",
       "      <td>S</td>\n",
       "      <td>...</td>\n",
       "      <td>SE</td>\n",
       "      <td>S</td>\n",
       "      <td>SE</td>\n",
       "      <td>ESE</td>\n",
       "      <td>ESE</td>\n",
       "      <td>SE</td>\n",
       "      <td>SE</td>\n",
       "      <td>SE</td>\n",
       "      <td>SSE</td>\n",
       "      <td>ESE</td>\n",
       "    </tr>\n",
       "    <tr>\n",
       "      <th>WindDir3pm</th>\n",
       "      <td>WNW</td>\n",
       "      <td>WSW</td>\n",
       "      <td>WSW</td>\n",
       "      <td>E</td>\n",
       "      <td>NW</td>\n",
       "      <td>W</td>\n",
       "      <td>W</td>\n",
       "      <td>W</td>\n",
       "      <td>NW</td>\n",
       "      <td>SSE</td>\n",
       "      <td>...</td>\n",
       "      <td>E</td>\n",
       "      <td>ESE</td>\n",
       "      <td>E</td>\n",
       "      <td>E</td>\n",
       "      <td>E</td>\n",
       "      <td>ENE</td>\n",
       "      <td>N</td>\n",
       "      <td>WNW</td>\n",
       "      <td>N</td>\n",
       "      <td>ESE</td>\n",
       "    </tr>\n",
       "    <tr>\n",
       "      <th>WindSpeed9am</th>\n",
       "      <td>20.000000</td>\n",
       "      <td>4.000000</td>\n",
       "      <td>19.000000</td>\n",
       "      <td>11.000000</td>\n",
       "      <td>7.000000</td>\n",
       "      <td>19.000000</td>\n",
       "      <td>20.000000</td>\n",
       "      <td>6.000000</td>\n",
       "      <td>7.000000</td>\n",
       "      <td>15.000000</td>\n",
       "      <td>...</td>\n",
       "      <td>11.000000</td>\n",
       "      <td>15.000000</td>\n",
       "      <td>19.000000</td>\n",
       "      <td>15.000000</td>\n",
       "      <td>15.000000</td>\n",
       "      <td>13.000000</td>\n",
       "      <td>13.000000</td>\n",
       "      <td>9.000000</td>\n",
       "      <td>13.000000</td>\n",
       "      <td>17.000000</td>\n",
       "    </tr>\n",
       "    <tr>\n",
       "      <th>WindSpeed3pm</th>\n",
       "      <td>24.000000</td>\n",
       "      <td>22.000000</td>\n",
       "      <td>26.000000</td>\n",
       "      <td>9.000000</td>\n",
       "      <td>20.000000</td>\n",
       "      <td>24.000000</td>\n",
       "      <td>24.000000</td>\n",
       "      <td>17.000000</td>\n",
       "      <td>28.000000</td>\n",
       "      <td>11.000000</td>\n",
       "      <td>...</td>\n",
       "      <td>11.000000</td>\n",
       "      <td>17.000000</td>\n",
       "      <td>26.000000</td>\n",
       "      <td>17.000000</td>\n",
       "      <td>13.000000</td>\n",
       "      <td>11.000000</td>\n",
       "      <td>9.000000</td>\n",
       "      <td>9.000000</td>\n",
       "      <td>7.000000</td>\n",
       "      <td>17.000000</td>\n",
       "    </tr>\n",
       "    <tr>\n",
       "      <th>Humidity9am</th>\n",
       "      <td>71.000000</td>\n",
       "      <td>44.000000</td>\n",
       "      <td>38.000000</td>\n",
       "      <td>45.000000</td>\n",
       "      <td>82.000000</td>\n",
       "      <td>55.000000</td>\n",
       "      <td>49.000000</td>\n",
       "      <td>48.000000</td>\n",
       "      <td>42.000000</td>\n",
       "      <td>58.000000</td>\n",
       "      <td>...</td>\n",
       "      <td>53.000000</td>\n",
       "      <td>53.000000</td>\n",
       "      <td>56.000000</td>\n",
       "      <td>63.000000</td>\n",
       "      <td>59.000000</td>\n",
       "      <td>51.000000</td>\n",
       "      <td>56.000000</td>\n",
       "      <td>53.000000</td>\n",
       "      <td>51.000000</td>\n",
       "      <td>62.000000</td>\n",
       "    </tr>\n",
       "    <tr>\n",
       "      <th>Humidity3pm</th>\n",
       "      <td>22.000000</td>\n",
       "      <td>25.000000</td>\n",
       "      <td>30.000000</td>\n",
       "      <td>16.000000</td>\n",
       "      <td>33.000000</td>\n",
       "      <td>23.000000</td>\n",
       "      <td>19.000000</td>\n",
       "      <td>19.000000</td>\n",
       "      <td>9.000000</td>\n",
       "      <td>27.000000</td>\n",
       "      <td>...</td>\n",
       "      <td>24.000000</td>\n",
       "      <td>25.000000</td>\n",
       "      <td>32.000000</td>\n",
       "      <td>33.000000</td>\n",
       "      <td>27.000000</td>\n",
       "      <td>24.000000</td>\n",
       "      <td>21.000000</td>\n",
       "      <td>24.000000</td>\n",
       "      <td>24.000000</td>\n",
       "      <td>36.000000</td>\n",
       "    </tr>\n",
       "    <tr>\n",
       "      <th>Pressure9am</th>\n",
       "      <td>1007.700000</td>\n",
       "      <td>1010.600000</td>\n",
       "      <td>1007.600000</td>\n",
       "      <td>1017.600000</td>\n",
       "      <td>1010.800000</td>\n",
       "      <td>1009.200000</td>\n",
       "      <td>1009.600000</td>\n",
       "      <td>1013.400000</td>\n",
       "      <td>1008.900000</td>\n",
       "      <td>1007.000000</td>\n",
       "      <td>...</td>\n",
       "      <td>1023.800000</td>\n",
       "      <td>1025.800000</td>\n",
       "      <td>1028.100000</td>\n",
       "      <td>1027.200000</td>\n",
       "      <td>1024.700000</td>\n",
       "      <td>1024.600000</td>\n",
       "      <td>1023.500000</td>\n",
       "      <td>1021.000000</td>\n",
       "      <td>1019.400000</td>\n",
       "      <td>1020.200000</td>\n",
       "    </tr>\n",
       "    <tr>\n",
       "      <th>Pressure3pm</th>\n",
       "      <td>1007.100000</td>\n",
       "      <td>1007.800000</td>\n",
       "      <td>1008.700000</td>\n",
       "      <td>1012.800000</td>\n",
       "      <td>1006.000000</td>\n",
       "      <td>1005.400000</td>\n",
       "      <td>1008.200000</td>\n",
       "      <td>1010.100000</td>\n",
       "      <td>1003.600000</td>\n",
       "      <td>1005.700000</td>\n",
       "      <td>...</td>\n",
       "      <td>1020.000000</td>\n",
       "      <td>1023.000000</td>\n",
       "      <td>1024.300000</td>\n",
       "      <td>1023.300000</td>\n",
       "      <td>1021.200000</td>\n",
       "      <td>1020.300000</td>\n",
       "      <td>1019.100000</td>\n",
       "      <td>1016.800000</td>\n",
       "      <td>1016.500000</td>\n",
       "      <td>1017.900000</td>\n",
       "    </tr>\n",
       "    <tr>\n",
       "      <th>Cloud9am</th>\n",
       "      <td>8.000000</td>\n",
       "      <td>4.447461</td>\n",
       "      <td>4.447461</td>\n",
       "      <td>4.447461</td>\n",
       "      <td>7.000000</td>\n",
       "      <td>4.447461</td>\n",
       "      <td>1.000000</td>\n",
       "      <td>4.447461</td>\n",
       "      <td>4.447461</td>\n",
       "      <td>4.447461</td>\n",
       "      <td>...</td>\n",
       "      <td>4.447461</td>\n",
       "      <td>4.447461</td>\n",
       "      <td>4.447461</td>\n",
       "      <td>4.447461</td>\n",
       "      <td>4.447461</td>\n",
       "      <td>4.447461</td>\n",
       "      <td>4.447461</td>\n",
       "      <td>4.447461</td>\n",
       "      <td>3.000000</td>\n",
       "      <td>8.000000</td>\n",
       "    </tr>\n",
       "    <tr>\n",
       "      <th>Cloud3pm</th>\n",
       "      <td>4.509930</td>\n",
       "      <td>4.509930</td>\n",
       "      <td>2.000000</td>\n",
       "      <td>4.509930</td>\n",
       "      <td>8.000000</td>\n",
       "      <td>4.509930</td>\n",
       "      <td>4.509930</td>\n",
       "      <td>4.509930</td>\n",
       "      <td>4.509930</td>\n",
       "      <td>4.509930</td>\n",
       "      <td>...</td>\n",
       "      <td>4.509930</td>\n",
       "      <td>4.509930</td>\n",
       "      <td>7.000000</td>\n",
       "      <td>4.509930</td>\n",
       "      <td>4.509930</td>\n",
       "      <td>4.509930</td>\n",
       "      <td>4.509930</td>\n",
       "      <td>4.509930</td>\n",
       "      <td>2.000000</td>\n",
       "      <td>8.000000</td>\n",
       "    </tr>\n",
       "    <tr>\n",
       "      <th>Temp9am</th>\n",
       "      <td>16.900000</td>\n",
       "      <td>17.200000</td>\n",
       "      <td>21.000000</td>\n",
       "      <td>18.100000</td>\n",
       "      <td>17.800000</td>\n",
       "      <td>20.600000</td>\n",
       "      <td>18.100000</td>\n",
       "      <td>16.300000</td>\n",
       "      <td>18.300000</td>\n",
       "      <td>20.100000</td>\n",
       "      <td>...</td>\n",
       "      <td>12.300000</td>\n",
       "      <td>11.200000</td>\n",
       "      <td>11.600000</td>\n",
       "      <td>11.000000</td>\n",
       "      <td>9.400000</td>\n",
       "      <td>10.100000</td>\n",
       "      <td>10.900000</td>\n",
       "      <td>12.500000</td>\n",
       "      <td>15.100000</td>\n",
       "      <td>15.000000</td>\n",
       "    </tr>\n",
       "    <tr>\n",
       "      <th>Temp3pm</th>\n",
       "      <td>21.800000</td>\n",
       "      <td>24.300000</td>\n",
       "      <td>23.200000</td>\n",
       "      <td>26.500000</td>\n",
       "      <td>29.700000</td>\n",
       "      <td>28.900000</td>\n",
       "      <td>24.600000</td>\n",
       "      <td>25.500000</td>\n",
       "      <td>30.200000</td>\n",
       "      <td>28.200000</td>\n",
       "      <td>...</td>\n",
       "      <td>23.300000</td>\n",
       "      <td>23.100000</td>\n",
       "      <td>20.000000</td>\n",
       "      <td>20.300000</td>\n",
       "      <td>20.900000</td>\n",
       "      <td>22.400000</td>\n",
       "      <td>24.500000</td>\n",
       "      <td>26.100000</td>\n",
       "      <td>26.000000</td>\n",
       "      <td>20.900000</td>\n",
       "    </tr>\n",
       "    <tr>\n",
       "      <th>RainToday</th>\n",
       "      <td>No</td>\n",
       "      <td>No</td>\n",
       "      <td>No</td>\n",
       "      <td>No</td>\n",
       "      <td>No</td>\n",
       "      <td>No</td>\n",
       "      <td>No</td>\n",
       "      <td>No</td>\n",
       "      <td>No</td>\n",
       "      <td>Yes</td>\n",
       "      <td>...</td>\n",
       "      <td>No</td>\n",
       "      <td>No</td>\n",
       "      <td>No</td>\n",
       "      <td>No</td>\n",
       "      <td>No</td>\n",
       "      <td>No</td>\n",
       "      <td>No</td>\n",
       "      <td>No</td>\n",
       "      <td>No</td>\n",
       "      <td>No</td>\n",
       "    </tr>\n",
       "    <tr>\n",
       "      <th>RainTomorrow</th>\n",
       "      <td>No</td>\n",
       "      <td>No</td>\n",
       "      <td>No</td>\n",
       "      <td>No</td>\n",
       "      <td>No</td>\n",
       "      <td>No</td>\n",
       "      <td>No</td>\n",
       "      <td>No</td>\n",
       "      <td>Yes</td>\n",
       "      <td>No</td>\n",
       "      <td>...</td>\n",
       "      <td>No</td>\n",
       "      <td>No</td>\n",
       "      <td>No</td>\n",
       "      <td>No</td>\n",
       "      <td>No</td>\n",
       "      <td>No</td>\n",
       "      <td>No</td>\n",
       "      <td>No</td>\n",
       "      <td>No</td>\n",
       "      <td>No</td>\n",
       "    </tr>\n",
       "  </tbody>\n",
       "</table>\n",
       "<p>23 rows × 145460 columns</p>\n",
       "</div>"
      ],
      "text/plain": [
       "                    0            1            2            3       \\\n",
       "Date            2008-12-01   2008-12-02   2008-12-03   2008-12-04   \n",
       "Location            Albury       Albury       Albury       Albury   \n",
       "MinTemp          13.400000     7.400000    12.900000     9.200000   \n",
       "MaxTemp          22.900000    25.100000    25.700000    28.000000   \n",
       "Rainfall          0.600000     0.000000     0.000000     0.000000   \n",
       "Evaporation       5.468232     5.468232     5.468232     5.468232   \n",
       "Sunshine          7.611178     7.611178     7.611178     7.611178   \n",
       "WindGustDir              W          WNW          WSW           NE   \n",
       "WindGustSpeed    44.000000    44.000000    46.000000    24.000000   \n",
       "WindDir9am               W          NNW            W           SE   \n",
       "WindDir3pm             WNW          WSW          WSW            E   \n",
       "WindSpeed9am     20.000000     4.000000    19.000000    11.000000   \n",
       "WindSpeed3pm     24.000000    22.000000    26.000000     9.000000   \n",
       "Humidity9am      71.000000    44.000000    38.000000    45.000000   \n",
       "Humidity3pm      22.000000    25.000000    30.000000    16.000000   \n",
       "Pressure9am    1007.700000  1010.600000  1007.600000  1017.600000   \n",
       "Pressure3pm    1007.100000  1007.800000  1008.700000  1012.800000   \n",
       "Cloud9am          8.000000     4.447461     4.447461     4.447461   \n",
       "Cloud3pm          4.509930     4.509930     2.000000     4.509930   \n",
       "Temp9am          16.900000    17.200000    21.000000    18.100000   \n",
       "Temp3pm          21.800000    24.300000    23.200000    26.500000   \n",
       "RainToday               No           No           No           No   \n",
       "RainTomorrow            No           No           No           No   \n",
       "\n",
       "                    4            5            6            7       \\\n",
       "Date            2008-12-05   2008-12-06   2008-12-07   2008-12-08   \n",
       "Location            Albury       Albury       Albury       Albury   \n",
       "MinTemp          17.500000    14.600000    14.300000     7.700000   \n",
       "MaxTemp          32.300000    29.700000    25.000000    26.700000   \n",
       "Rainfall          1.000000     0.200000     0.000000     0.000000   \n",
       "Evaporation       5.468232     5.468232     5.468232     5.468232   \n",
       "Sunshine          7.611178     7.611178     7.611178     7.611178   \n",
       "WindGustDir              W          WNW            W            W   \n",
       "WindGustSpeed    41.000000    56.000000    50.000000    35.000000   \n",
       "WindDir9am             ENE            W           SW          SSE   \n",
       "WindDir3pm              NW            W            W            W   \n",
       "WindSpeed9am      7.000000    19.000000    20.000000     6.000000   \n",
       "WindSpeed3pm     20.000000    24.000000    24.000000    17.000000   \n",
       "Humidity9am      82.000000    55.000000    49.000000    48.000000   \n",
       "Humidity3pm      33.000000    23.000000    19.000000    19.000000   \n",
       "Pressure9am    1010.800000  1009.200000  1009.600000  1013.400000   \n",
       "Pressure3pm    1006.000000  1005.400000  1008.200000  1010.100000   \n",
       "Cloud9am          7.000000     4.447461     1.000000     4.447461   \n",
       "Cloud3pm          8.000000     4.509930     4.509930     4.509930   \n",
       "Temp9am          17.800000    20.600000    18.100000    16.300000   \n",
       "Temp3pm          29.700000    28.900000    24.600000    25.500000   \n",
       "RainToday               No           No           No           No   \n",
       "RainTomorrow            No           No           No           No   \n",
       "\n",
       "                    8            9       ...       145450       145451  \\\n",
       "Date            2008-12-09   2008-12-10  ...   2017-06-16   2017-06-17   \n",
       "Location            Albury       Albury  ...        Uluru        Uluru   \n",
       "MinTemp           9.700000    13.100000  ...     5.200000     6.400000   \n",
       "MaxTemp          31.900000    30.100000  ...    24.300000    23.400000   \n",
       "Rainfall          0.000000     1.400000  ...     0.000000     0.000000   \n",
       "Evaporation       5.468232     5.468232  ...     5.468232     5.468232   \n",
       "Sunshine          7.611178     7.611178  ...     7.611178     7.611178   \n",
       "WindGustDir            NNW            W  ...            E          ESE   \n",
       "WindGustSpeed    80.000000    28.000000  ...    24.000000    31.000000   \n",
       "WindDir9am              SE            S  ...           SE            S   \n",
       "WindDir3pm              NW          SSE  ...            E          ESE   \n",
       "WindSpeed9am      7.000000    15.000000  ...    11.000000    15.000000   \n",
       "WindSpeed3pm     28.000000    11.000000  ...    11.000000    17.000000   \n",
       "Humidity9am      42.000000    58.000000  ...    53.000000    53.000000   \n",
       "Humidity3pm       9.000000    27.000000  ...    24.000000    25.000000   \n",
       "Pressure9am    1008.900000  1007.000000  ...  1023.800000  1025.800000   \n",
       "Pressure3pm    1003.600000  1005.700000  ...  1020.000000  1023.000000   \n",
       "Cloud9am          4.447461     4.447461  ...     4.447461     4.447461   \n",
       "Cloud3pm          4.509930     4.509930  ...     4.509930     4.509930   \n",
       "Temp9am          18.300000    20.100000  ...    12.300000    11.200000   \n",
       "Temp3pm          30.200000    28.200000  ...    23.300000    23.100000   \n",
       "RainToday               No          Yes  ...           No           No   \n",
       "RainTomorrow           Yes           No  ...           No           No   \n",
       "\n",
       "                    145452       145453       145454       145455  \\\n",
       "Date            2017-06-18   2017-06-19   2017-06-20   2017-06-21   \n",
       "Location             Uluru        Uluru        Uluru        Uluru   \n",
       "MinTemp           8.000000     7.400000     3.500000     2.800000   \n",
       "MaxTemp          20.700000    20.600000    21.800000    23.400000   \n",
       "Rainfall          0.000000     0.000000     0.000000     0.000000   \n",
       "Evaporation       5.468232     5.468232     5.468232     5.468232   \n",
       "Sunshine          7.611178     7.611178     7.611178     7.611178   \n",
       "WindGustDir            ESE            E            E            E   \n",
       "WindGustSpeed    41.000000    35.000000    31.000000    31.000000   \n",
       "WindDir9am              SE          ESE          ESE           SE   \n",
       "WindDir3pm               E            E            E          ENE   \n",
       "WindSpeed9am     19.000000    15.000000    15.000000    13.000000   \n",
       "WindSpeed3pm     26.000000    17.000000    13.000000    11.000000   \n",
       "Humidity9am      56.000000    63.000000    59.000000    51.000000   \n",
       "Humidity3pm      32.000000    33.000000    27.000000    24.000000   \n",
       "Pressure9am    1028.100000  1027.200000  1024.700000  1024.600000   \n",
       "Pressure3pm    1024.300000  1023.300000  1021.200000  1020.300000   \n",
       "Cloud9am          4.447461     4.447461     4.447461     4.447461   \n",
       "Cloud3pm          7.000000     4.509930     4.509930     4.509930   \n",
       "Temp9am          11.600000    11.000000     9.400000    10.100000   \n",
       "Temp3pm          20.000000    20.300000    20.900000    22.400000   \n",
       "RainToday               No           No           No           No   \n",
       "RainTomorrow            No           No           No           No   \n",
       "\n",
       "                    145456       145457       145458       145459  \n",
       "Date            2017-06-22   2017-06-23   2017-06-24   2017-06-25  \n",
       "Location             Uluru        Uluru        Uluru        Uluru  \n",
       "MinTemp           3.600000     5.400000     7.800000    14.900000  \n",
       "MaxTemp          25.300000    26.900000    27.000000    23.221348  \n",
       "Rainfall          0.000000     0.000000     0.000000     0.000000  \n",
       "Evaporation       5.468232     5.468232     5.468232     5.468232  \n",
       "Sunshine          7.611178     7.611178     7.611178     7.611178  \n",
       "WindGustDir            NNW            N           SE            W  \n",
       "WindGustSpeed    22.000000    37.000000    28.000000    40.035230  \n",
       "WindDir9am              SE           SE          SSE          ESE  \n",
       "WindDir3pm               N          WNW            N          ESE  \n",
       "WindSpeed9am     13.000000     9.000000    13.000000    17.000000  \n",
       "WindSpeed3pm      9.000000     9.000000     7.000000    17.000000  \n",
       "Humidity9am      56.000000    53.000000    51.000000    62.000000  \n",
       "Humidity3pm      21.000000    24.000000    24.000000    36.000000  \n",
       "Pressure9am    1023.500000  1021.000000  1019.400000  1020.200000  \n",
       "Pressure3pm    1019.100000  1016.800000  1016.500000  1017.900000  \n",
       "Cloud9am          4.447461     4.447461     3.000000     8.000000  \n",
       "Cloud3pm          4.509930     4.509930     2.000000     8.000000  \n",
       "Temp9am          10.900000    12.500000    15.100000    15.000000  \n",
       "Temp3pm          24.500000    26.100000    26.000000    20.900000  \n",
       "RainToday               No           No           No           No  \n",
       "RainTomorrow            No           No           No           No  \n",
       "\n",
       "[23 rows x 145460 columns]"
      ]
     },
     "execution_count": 33,
     "metadata": {},
     "output_type": "execute_result"
    }
   ],
   "source": [
    "df.T.head(df.shape[1])"
   ]
  },
  {
   "cell_type": "code",
   "execution_count": 34,
   "metadata": {
    "colab": {
     "base_uri": "https://localhost:8080/"
    },
    "id": "YyzjT-0Pzb94",
    "outputId": "29c5e205-7edf-4653-eeeb-2168b4401f79"
   },
   "outputs": [
    {
     "data": {
      "text/plain": [
       "Date             0.0\n",
       "Location         0.0\n",
       "MinTemp          0.0\n",
       "MaxTemp          0.0\n",
       "Rainfall         0.0\n",
       "Evaporation      0.0\n",
       "Sunshine         0.0\n",
       "WindGustDir      0.0\n",
       "WindGustSpeed    0.0\n",
       "WindDir9am       0.0\n",
       "WindDir3pm       0.0\n",
       "WindSpeed9am     0.0\n",
       "WindSpeed3pm     0.0\n",
       "Humidity9am      0.0\n",
       "Humidity3pm      0.0\n",
       "Pressure9am      0.0\n",
       "Pressure3pm      0.0\n",
       "Cloud9am         0.0\n",
       "Cloud3pm         0.0\n",
       "Temp9am          0.0\n",
       "Temp3pm          0.0\n",
       "RainToday        0.0\n",
       "RainTomorrow     0.0\n",
       "dtype: float64"
      ]
     },
     "execution_count": 34,
     "metadata": {},
     "output_type": "execute_result"
    }
   ],
   "source": [
    "#re-check\n",
    "(df.isnull().sum()/len(df))*100"
   ]
  },
  {
   "cell_type": "code",
   "execution_count": 36,
   "metadata": {
    "colab": {
     "base_uri": "https://localhost:8080/",
     "height": 658
    },
    "id": "sFLasKcKzb98",
    "outputId": "f8030df7-62cc-41a1-c9ed-1f4c318b8e55"
   },
   "outputs": [
    {
     "data": {
      "image/png": "[encoded data removed]",
      "text/plain": [
       "<Figure size 1296x1296 with 2 Axes>"
      ]
     },
     "metadata": {
      "needs_background": "light"
     },
     "output_type": "display_data"
    }
   ],
   "source": [
    "#Afficher les corrélation\n",
    "correlation = df.corr()\n",
    "plt.figure(figsize=(18,18))\n",
    "sns.heatmap(correlation, annot=True, square=True)\n",
    "plt.show()"
   ]
  },
  {
   "cell_type": "markdown",
   "metadata": {
    "id": "dFko3l3hzb-B"
   },
   "source": [
    "Observations :\\\n",
    "Les variables MaxTemp et Temp3pm sont corrélées(0.97).\\\n",
    "Les variables Temp3pm et Temp9am sont corrélées(0.85).\\\n",
    "Les variables MinTemp et Temp9am sont corrélées (0.9).\\\n",
    "Les variables MinTemp et Temp3pm sont corrélées (0.7)."
   ]
  },
  {
   "cell_type": "markdown",
   "metadata": {
    "id": "FJ71cnJszb-C"
   },
   "source": [
    "### Détection des valeurs aberrantes"
   ]
  },
  {
   "cell_type": "code",
   "execution_count": 37,
   "metadata": {
    "colab": {
     "base_uri": "https://localhost:8080/",
     "height": 281
    },
    "id": "_GDfgEsdzb-E",
    "outputId": "d4dc48bb-3072-490a-d915-9be5f1699857"
   },
   "outputs": [
    {
     "data": {
      "image/png": "[encoded data removed]",
      "text/plain": [
       "<Figure size 432x288 with 1 Axes>"
      ]
     },
     "metadata": {
      "needs_background": "light"
     },
     "output_type": "display_data"
    }
   ],
   "source": [
    "plt.subplot(1,2,1)\n",
    "bp1 = df.boxplot()\n",
    "plt.title(\"Boxplot\")\n",
    "\n",
    "df_copy=df.copy()\n",
    "\n",
    "# On peut remarquer que nos données ne sont pas normalisées surtout le cas des deux\n",
    "# attributs : Pressure3pm et Pressure9am (valeurs entre 950 et 1050) => envisager une renormalisation des données"
   ]
  },
  {
   "cell_type": "code",
   "execution_count": 38,
   "metadata": {
    "colab": {
     "base_uri": "https://localhost:8080/",
     "height": 265
    },
    "id": "qFjj2u1vzb-F",
    "outputId": "044367de-d727-46b8-9d68-e09aaf7da329"
   },
   "outputs": [
    {
     "data": {
      "image/png": "[encoded data removed]",
      "text/plain": [
       "<Figure size 432x288 with 2 Axes>"
      ]
     },
     "metadata": {
      "needs_background": "light"
     },
     "output_type": "display_data"
    }
   ],
   "source": [
    "df1 = pd.DataFrame(df['Pressure3pm'])\n",
    "df2= pd.DataFrame(df['Pressure9am'])\n",
    "\n",
    "plt.subplot(1,2,1)\n",
    "bp1 = df1.boxplot()\n",
    "\n",
    "\n",
    "plt.subplot(1,2,2)\n",
    "bp2 = df2.boxplot()\n"
   ]
  },
  {
   "cell_type": "code",
   "execution_count": 39,
   "metadata": {
    "colab": {
     "base_uri": "https://localhost:8080/"
    },
    "id": "uZK02Rftzb-I",
    "outputId": "3884f1e6-b4dd-43ed-d5ff-e8b22dc1a899"
   },
   "outputs": [
    {
     "data": {
      "text/plain": [
       "['MinTemp',\n",
       " 'MaxTemp',\n",
       " 'Rainfall',\n",
       " 'Evaporation',\n",
       " 'Sunshine',\n",
       " 'WindGustSpeed',\n",
       " 'WindSpeed9am',\n",
       " 'WindSpeed3pm',\n",
       " 'Humidity9am',\n",
       " 'Humidity3pm',\n",
       " 'Pressure9am',\n",
       " 'Pressure3pm',\n",
       " 'Cloud9am',\n",
       " 'Cloud3pm',\n",
       " 'Temp9am',\n",
       " 'Temp3pm']"
      ]
     },
     "execution_count": 39,
     "metadata": {},
     "output_type": "execute_result"
    }
   ],
   "source": [
    "# Selectionner les types qui sont pas des objets pour les normaliser (int et float)\n",
    "df2=df.select_dtypes(include=[np.float,np.int])\n",
    "list(df2.columns)"
   ]
  },
  {
   "cell_type": "code",
   "execution_count": 40,
   "metadata": {
    "id": "hw3ZYsSGzb-N"
   },
   "outputs": [],
   "source": [
    "# Une fonction pour normaliser chaque ligne \n",
    "def normalized(df, column_name):\n",
    "    df[column_name].fillna(value=0, inplace=True)\n",
    "    df[column_name] = df[column_name] / df[column_name].max()\n",
    "    return df"
   ]
  },
  {
   "cell_type": "code",
   "execution_count": 41,
   "metadata": {
    "id": "acsKUX0Kzb-O"
   },
   "outputs": [],
   "source": [
    "dataset=df\n",
    "for i in dataset:\n",
    "    if dataset[i].dtype=='float64':\n",
    "        q1 = dataset[i].quantile(0.25)\n",
    "        q3 = dataset[i].quantile(0.75)\n",
    "        iqr = q3-q1\n",
    "        Lower_tail = q1 - 1.5 * iqr\n",
    "        Upper_tail = q3 + 1.5 * iqr\n",
    "        med = np.median(dataset[i])\n",
    "        for j in dataset[i]:\n",
    "            if j > Upper_tail or j < Lower_tail:\n",
    "                dataset[i] = dataset[i].replace(j, med)\n",
    "    else:\n",
    "        continue  "
   ]
  },
  {
   "cell_type": "code",
   "execution_count": 44,
   "metadata": {
    "colab": {
     "base_uri": "https://localhost:8080/",
     "height": 299
    },
    "id": "cQ47_Fiezb-R",
    "outputId": "b98fc3fe-8bd0-4a28-8123-51aa7104bfbf"
   },
   "outputs": [
    {
     "data": {
      "text/plain": [
       "Text(0.5, 1.0, 'Sans les valeurs aberrantes')"
      ]
     },
     "execution_count": 44,
     "metadata": {},
     "output_type": "execute_result"
    },
    {
     "data": {
      "image/png": "[encoded data removed]",
      "text/plain": [
       "<Figure size 432x288 with 2 Axes>"
      ]
     },
     "metadata": {
      "needs_background": "light"
     },
     "output_type": "display_data"
    }
   ],
   "source": [
    "plt.subplot(1,2,1)\n",
    "bp1 = df_copy.boxplot()\n",
    "plt.title(\"Avec les valeurs aberrantes\")\n",
    "\n",
    "plt.subplot(1,2,2)\n",
    "bp1 = dataset.boxplot()\n",
    "plt.title(\"Sans les valeurs aberrantes\")"
   ]
  },
  {
   "cell_type": "code",
   "execution_count": 45,
   "metadata": {
    "colab": {
     "base_uri": "https://localhost:8080/",
     "height": 299
    },
    "id": "K9jEBIyvzb-V",
    "outputId": "64e9a836-f0d0-4a10-f31b-9d5898ddc487"
   },
   "outputs": [
    {
     "data": {
      "text/plain": [
       "Text(0.5, 1.0, 'Sans valeurs aberrantes')"
      ]
     },
     "execution_count": 45,
     "metadata": {},
     "output_type": "execute_result"
    },
    {
     "data": {
      "image/png": "[encoded data removed]",
      "text/plain": [
       "<Figure size 432x288 with 2 Axes>"
      ]
     },
     "metadata": {
      "needs_background": "light"
     },
     "output_type": "display_data"
    }
   ],
   "source": [
    "df_boxplot1 = pd.DataFrame(dataset['Pressure3pm'])\n",
    "df_boxplot2 = pd.DataFrame(df_copy['Pressure3pm'])\n",
    "\n",
    "plt.subplot(1,2,1)\n",
    "bp11 = df_boxplot1.boxplot()\n",
    "plt.title(\"Avec valeurs aberrantes\")\n",
    "\n",
    "plt.subplot(1,2,2)\n",
    "bp12 = df_boxplot2.boxplot()\n",
    "plt.title(\"Sans valeurs aberrantes\")\n",
    "# On voit mieux la différence avec un seule attribut comme exemple"
   ]
  },
  {
   "cell_type": "markdown",
   "metadata": {
    "id": "H3PitvP3zb-X"
   },
   "source": [
    "### Prédicter la pluie en Australie (Pas de localisation précise )"
   ]
  },
  {
   "cell_type": "code",
   "execution_count": 46,
   "metadata": {
    "colab": {
     "base_uri": "https://localhost:8080/"
    },
    "id": "2sg1crLlzb-Y",
    "outputId": "a034617c-f0a9-425b-a34b-ef7fbb6f4218"
   },
   "outputs": [
    {
     "data": {
      "text/plain": [
       "(145460, 17)"
      ]
     },
     "execution_count": 46,
     "metadata": {},
     "output_type": "execute_result"
    }
   ],
   "source": [
    "# On a pas besoin du feature Location\n",
    "# On supprime le feature Date aussi \n",
    "df = dataset.drop(columns=['Sunshine','Evaporation','Cloud3pm','Cloud9am','Location','Date'],axis=1)\n",
    "df.shape"
   ]
  },
  {
   "cell_type": "code",
   "execution_count": 47,
   "metadata": {
    "colab": {
     "base_uri": "https://localhost:8080/",
     "height": 335
    },
    "id": "Y7vkvF6Fzb-a",
    "outputId": "71af93fa-5cd2-442e-b01c-4ec8d13f785c",
    "scrolled": true
   },
   "outputs": [
    {
     "name": "stdout",
     "output_type": "stream",
     "text": [
      "['E' 'ENE' 'ESE' 'N' 'NE' 'NNE' 'NNW' 'NW' 'S' 'SE' 'SSE' 'SSW' 'SW' 'W'\n",
      " 'WNW' 'WSW']\n",
      "['E' 'ENE' 'ESE' 'N' 'NE' 'NNE' 'NNW' 'NW' 'S' 'SE' 'SSE' 'SSW' 'SW' 'W'\n",
      " 'WNW' 'WSW']\n",
      "['E' 'ENE' 'ESE' 'N' 'NE' 'NNE' 'NNW' 'NW' 'S' 'SE' 'SSE' 'SSW' 'SW' 'W'\n",
      " 'WNW' 'WSW']\n"
     ]
    },
    {
     "data": {
      "text/html": [
       "<div>\n",
       "<style scoped>\n",
       "    .dataframe tbody tr th:only-of-type {\n",
       "        vertical-align: middle;\n",
       "    }\n",
       "\n",
       "    .dataframe tbody tr th {\n",
       "        vertical-align: top;\n",
       "    }\n",
       "\n",
       "    .dataframe thead th {\n",
       "        text-align: right;\n",
       "    }\n",
       "</style>\n",
       "<table border=\"1\" class=\"dataframe\">\n",
       "  <thead>\n",
       "    <tr style=\"text-align: right;\">\n",
       "      <th></th>\n",
       "      <th>MinTemp</th>\n",
       "      <th>MaxTemp</th>\n",
       "      <th>Rainfall</th>\n",
       "      <th>WindGustSpeed</th>\n",
       "      <th>WindSpeed9am</th>\n",
       "      <th>WindSpeed3pm</th>\n",
       "      <th>Humidity9am</th>\n",
       "      <th>Humidity3pm</th>\n",
       "      <th>Pressure9am</th>\n",
       "      <th>Pressure3pm</th>\n",
       "      <th>...</th>\n",
       "      <th>WindDir9am_NNW</th>\n",
       "      <th>WindDir9am_NW</th>\n",
       "      <th>WindDir9am_S</th>\n",
       "      <th>WindDir9am_SE</th>\n",
       "      <th>WindDir9am_SSE</th>\n",
       "      <th>WindDir9am_SSW</th>\n",
       "      <th>WindDir9am_SW</th>\n",
       "      <th>WindDir9am_W</th>\n",
       "      <th>WindDir9am_WNW</th>\n",
       "      <th>WindDir9am_WSW</th>\n",
       "    </tr>\n",
       "  </thead>\n",
       "  <tbody>\n",
       "    <tr>\n",
       "      <th>4</th>\n",
       "      <td>17.5</td>\n",
       "      <td>32.3</td>\n",
       "      <td>1.0</td>\n",
       "      <td>41.0</td>\n",
       "      <td>7.0</td>\n",
       "      <td>20.0</td>\n",
       "      <td>82.0</td>\n",
       "      <td>33.0</td>\n",
       "      <td>1010.8</td>\n",
       "      <td>1006.0</td>\n",
       "      <td>...</td>\n",
       "      <td>0</td>\n",
       "      <td>0</td>\n",
       "      <td>0</td>\n",
       "      <td>0</td>\n",
       "      <td>0</td>\n",
       "      <td>0</td>\n",
       "      <td>0</td>\n",
       "      <td>0</td>\n",
       "      <td>0</td>\n",
       "      <td>0</td>\n",
       "    </tr>\n",
       "    <tr>\n",
       "      <th>5</th>\n",
       "      <td>14.6</td>\n",
       "      <td>29.7</td>\n",
       "      <td>0.2</td>\n",
       "      <td>56.0</td>\n",
       "      <td>19.0</td>\n",
       "      <td>24.0</td>\n",
       "      <td>55.0</td>\n",
       "      <td>23.0</td>\n",
       "      <td>1009.2</td>\n",
       "      <td>1005.4</td>\n",
       "      <td>...</td>\n",
       "      <td>0</td>\n",
       "      <td>0</td>\n",
       "      <td>0</td>\n",
       "      <td>0</td>\n",
       "      <td>0</td>\n",
       "      <td>0</td>\n",
       "      <td>0</td>\n",
       "      <td>1</td>\n",
       "      <td>0</td>\n",
       "      <td>0</td>\n",
       "    </tr>\n",
       "    <tr>\n",
       "      <th>6</th>\n",
       "      <td>14.3</td>\n",
       "      <td>25.0</td>\n",
       "      <td>0.0</td>\n",
       "      <td>50.0</td>\n",
       "      <td>20.0</td>\n",
       "      <td>24.0</td>\n",
       "      <td>49.0</td>\n",
       "      <td>19.0</td>\n",
       "      <td>1009.6</td>\n",
       "      <td>1008.2</td>\n",
       "      <td>...</td>\n",
       "      <td>0</td>\n",
       "      <td>0</td>\n",
       "      <td>0</td>\n",
       "      <td>0</td>\n",
       "      <td>0</td>\n",
       "      <td>0</td>\n",
       "      <td>1</td>\n",
       "      <td>0</td>\n",
       "      <td>0</td>\n",
       "      <td>0</td>\n",
       "    </tr>\n",
       "    <tr>\n",
       "      <th>7</th>\n",
       "      <td>7.7</td>\n",
       "      <td>26.7</td>\n",
       "      <td>0.0</td>\n",
       "      <td>35.0</td>\n",
       "      <td>6.0</td>\n",
       "      <td>17.0</td>\n",
       "      <td>48.0</td>\n",
       "      <td>19.0</td>\n",
       "      <td>1013.4</td>\n",
       "      <td>1010.1</td>\n",
       "      <td>...</td>\n",
       "      <td>0</td>\n",
       "      <td>0</td>\n",
       "      <td>0</td>\n",
       "      <td>0</td>\n",
       "      <td>1</td>\n",
       "      <td>0</td>\n",
       "      <td>0</td>\n",
       "      <td>0</td>\n",
       "      <td>0</td>\n",
       "      <td>0</td>\n",
       "    </tr>\n",
       "    <tr>\n",
       "      <th>8</th>\n",
       "      <td>9.7</td>\n",
       "      <td>31.9</td>\n",
       "      <td>0.0</td>\n",
       "      <td>39.0</td>\n",
       "      <td>7.0</td>\n",
       "      <td>28.0</td>\n",
       "      <td>42.0</td>\n",
       "      <td>9.0</td>\n",
       "      <td>1008.9</td>\n",
       "      <td>1003.6</td>\n",
       "      <td>...</td>\n",
       "      <td>0</td>\n",
       "      <td>0</td>\n",
       "      <td>0</td>\n",
       "      <td>1</td>\n",
       "      <td>0</td>\n",
       "      <td>0</td>\n",
       "      <td>0</td>\n",
       "      <td>0</td>\n",
       "      <td>0</td>\n",
       "      <td>0</td>\n",
       "    </tr>\n",
       "  </tbody>\n",
       "</table>\n",
       "<p>5 rows × 62 columns</p>\n",
       "</div>"
      ],
      "text/plain": [
       "   MinTemp  MaxTemp  Rainfall  WindGustSpeed  WindSpeed9am  WindSpeed3pm  \\\n",
       "4     17.5     32.3       1.0           41.0           7.0          20.0   \n",
       "5     14.6     29.7       0.2           56.0          19.0          24.0   \n",
       "6     14.3     25.0       0.0           50.0          20.0          24.0   \n",
       "7      7.7     26.7       0.0           35.0           6.0          17.0   \n",
       "8      9.7     31.9       0.0           39.0           7.0          28.0   \n",
       "\n",
       "   Humidity9am  Humidity3pm  Pressure9am  Pressure3pm  ...  WindDir9am_NNW  \\\n",
       "4         82.0         33.0       1010.8       1006.0  ...               0   \n",
       "5         55.0         23.0       1009.2       1005.4  ...               0   \n",
       "6         49.0         19.0       1009.6       1008.2  ...               0   \n",
       "7         48.0         19.0       1013.4       1010.1  ...               0   \n",
       "8         42.0          9.0       1008.9       1003.6  ...               0   \n",
       "\n",
       "   WindDir9am_NW  WindDir9am_S  WindDir9am_SE  WindDir9am_SSE  WindDir9am_SSW  \\\n",
       "4              0             0              0               0               0   \n",
       "5              0             0              0               0               0   \n",
       "6              0             0              0               0               0   \n",
       "7              0             0              0               1               0   \n",
       "8              0             0              1               0               0   \n",
       "\n",
       "   WindDir9am_SW  WindDir9am_W  WindDir9am_WNW  WindDir9am_WSW  \n",
       "4              0             0               0               0  \n",
       "5              0             1               0               0  \n",
       "6              1             0               0               0  \n",
       "7              0             0               0               0  \n",
       "8              0             0               0               0  \n",
       "\n",
       "[5 rows x 62 columns]"
      ]
     },
     "execution_count": 47,
     "metadata": {},
     "output_type": "execute_result"
    }
   ],
   "source": [
    "# Changer yes/no par 1/0 pour les colonnes RainToday et RainTomorrow\n",
    "df['RainToday'].replace({'No': 0, 'Yes': 1},inplace = True)\n",
    "df['RainTomorrow'].replace({'No': 0, 'Yes': 1},inplace = True)\n",
    "\n",
    "# Trouver les valeurs uniques et les convertir à type int en utilisant pd.getDummies() \n",
    "categorical_columns = ['WindGustDir', 'WindDir3pm', 'WindDir9am']\n",
    "for col in categorical_columns:\n",
    "    print(np.unique(df[col]))\n",
    "df = pd.get_dummies(df, columns=categorical_columns)\n",
    "df.iloc[4:9]"
   ]
  },
  {
   "cell_type": "code",
   "execution_count": 48,
   "metadata": {
    "colab": {
     "base_uri": "https://localhost:8080/",
     "height": 257
    },
    "id": "RYalvQfmzb-b",
    "outputId": "76209a6d-6b58-4122-9c0d-31d0399f1d9a",
    "scrolled": true
   },
   "outputs": [
    {
     "data": {
      "text/html": [
       "<div>\n",
       "<style scoped>\n",
       "    .dataframe tbody tr th:only-of-type {\n",
       "        vertical-align: middle;\n",
       "    }\n",
       "\n",
       "    .dataframe tbody tr th {\n",
       "        vertical-align: top;\n",
       "    }\n",
       "\n",
       "    .dataframe thead th {\n",
       "        text-align: right;\n",
       "    }\n",
       "</style>\n",
       "<table border=\"1\" class=\"dataframe\">\n",
       "  <thead>\n",
       "    <tr style=\"text-align: right;\">\n",
       "      <th></th>\n",
       "      <th>MinTemp</th>\n",
       "      <th>MaxTemp</th>\n",
       "      <th>Rainfall</th>\n",
       "      <th>WindGustSpeed</th>\n",
       "      <th>WindSpeed9am</th>\n",
       "      <th>WindSpeed3pm</th>\n",
       "      <th>Humidity9am</th>\n",
       "      <th>Humidity3pm</th>\n",
       "      <th>Pressure9am</th>\n",
       "      <th>Pressure3pm</th>\n",
       "      <th>...</th>\n",
       "      <th>WindDir9am_NNW</th>\n",
       "      <th>WindDir9am_NW</th>\n",
       "      <th>WindDir9am_S</th>\n",
       "      <th>WindDir9am_SE</th>\n",
       "      <th>WindDir9am_SSE</th>\n",
       "      <th>WindDir9am_SSW</th>\n",
       "      <th>WindDir9am_SW</th>\n",
       "      <th>WindDir9am_W</th>\n",
       "      <th>WindDir9am_WNW</th>\n",
       "      <th>WindDir9am_WSW</th>\n",
       "    </tr>\n",
       "  </thead>\n",
       "  <tbody>\n",
       "    <tr>\n",
       "      <th>4</th>\n",
       "      <td>0.646409</td>\n",
       "      <td>0.724816</td>\n",
       "      <td>0.40</td>\n",
       "      <td>0.551724</td>\n",
       "      <td>0.189189</td>\n",
       "      <td>0.512821</td>\n",
       "      <td>0.780488</td>\n",
       "      <td>0.33</td>\n",
       "      <td>0.293051</td>\n",
       "      <td>0.220544</td>\n",
       "      <td>...</td>\n",
       "      <td>0.0</td>\n",
       "      <td>0.0</td>\n",
       "      <td>0.0</td>\n",
       "      <td>0.0</td>\n",
       "      <td>0.0</td>\n",
       "      <td>0.0</td>\n",
       "      <td>0.0</td>\n",
       "      <td>0.0</td>\n",
       "      <td>0.0</td>\n",
       "      <td>0.0</td>\n",
       "    </tr>\n",
       "    <tr>\n",
       "      <th>5</th>\n",
       "      <td>0.566298</td>\n",
       "      <td>0.660934</td>\n",
       "      <td>0.08</td>\n",
       "      <td>0.810345</td>\n",
       "      <td>0.513514</td>\n",
       "      <td>0.615385</td>\n",
       "      <td>0.451220</td>\n",
       "      <td>0.23</td>\n",
       "      <td>0.244713</td>\n",
       "      <td>0.202417</td>\n",
       "      <td>...</td>\n",
       "      <td>0.0</td>\n",
       "      <td>0.0</td>\n",
       "      <td>0.0</td>\n",
       "      <td>0.0</td>\n",
       "      <td>0.0</td>\n",
       "      <td>0.0</td>\n",
       "      <td>0.0</td>\n",
       "      <td>1.0</td>\n",
       "      <td>0.0</td>\n",
       "      <td>0.0</td>\n",
       "    </tr>\n",
       "    <tr>\n",
       "      <th>6</th>\n",
       "      <td>0.558011</td>\n",
       "      <td>0.545455</td>\n",
       "      <td>0.00</td>\n",
       "      <td>0.706897</td>\n",
       "      <td>0.540541</td>\n",
       "      <td>0.615385</td>\n",
       "      <td>0.378049</td>\n",
       "      <td>0.19</td>\n",
       "      <td>0.256798</td>\n",
       "      <td>0.287009</td>\n",
       "      <td>...</td>\n",
       "      <td>0.0</td>\n",
       "      <td>0.0</td>\n",
       "      <td>0.0</td>\n",
       "      <td>0.0</td>\n",
       "      <td>0.0</td>\n",
       "      <td>0.0</td>\n",
       "      <td>1.0</td>\n",
       "      <td>0.0</td>\n",
       "      <td>0.0</td>\n",
       "      <td>0.0</td>\n",
       "    </tr>\n",
       "    <tr>\n",
       "      <th>7</th>\n",
       "      <td>0.375691</td>\n",
       "      <td>0.587224</td>\n",
       "      <td>0.00</td>\n",
       "      <td>0.448276</td>\n",
       "      <td>0.162162</td>\n",
       "      <td>0.435897</td>\n",
       "      <td>0.365854</td>\n",
       "      <td>0.19</td>\n",
       "      <td>0.371601</td>\n",
       "      <td>0.344411</td>\n",
       "      <td>...</td>\n",
       "      <td>0.0</td>\n",
       "      <td>0.0</td>\n",
       "      <td>0.0</td>\n",
       "      <td>0.0</td>\n",
       "      <td>1.0</td>\n",
       "      <td>0.0</td>\n",
       "      <td>0.0</td>\n",
       "      <td>0.0</td>\n",
       "      <td>0.0</td>\n",
       "      <td>0.0</td>\n",
       "    </tr>\n",
       "    <tr>\n",
       "      <th>8</th>\n",
       "      <td>0.430939</td>\n",
       "      <td>0.714988</td>\n",
       "      <td>0.00</td>\n",
       "      <td>0.517241</td>\n",
       "      <td>0.189189</td>\n",
       "      <td>0.717949</td>\n",
       "      <td>0.292683</td>\n",
       "      <td>0.09</td>\n",
       "      <td>0.235650</td>\n",
       "      <td>0.148036</td>\n",
       "      <td>...</td>\n",
       "      <td>0.0</td>\n",
       "      <td>0.0</td>\n",
       "      <td>0.0</td>\n",
       "      <td>1.0</td>\n",
       "      <td>0.0</td>\n",
       "      <td>0.0</td>\n",
       "      <td>0.0</td>\n",
       "      <td>0.0</td>\n",
       "      <td>0.0</td>\n",
       "      <td>0.0</td>\n",
       "    </tr>\n",
       "    <tr>\n",
       "      <th>9</th>\n",
       "      <td>0.524862</td>\n",
       "      <td>0.670762</td>\n",
       "      <td>0.56</td>\n",
       "      <td>0.327586</td>\n",
       "      <td>0.405405</td>\n",
       "      <td>0.282051</td>\n",
       "      <td>0.487805</td>\n",
       "      <td>0.27</td>\n",
       "      <td>0.178248</td>\n",
       "      <td>0.211480</td>\n",
       "      <td>...</td>\n",
       "      <td>0.0</td>\n",
       "      <td>0.0</td>\n",
       "      <td>1.0</td>\n",
       "      <td>0.0</td>\n",
       "      <td>0.0</td>\n",
       "      <td>0.0</td>\n",
       "      <td>0.0</td>\n",
       "      <td>0.0</td>\n",
       "      <td>0.0</td>\n",
       "      <td>0.0</td>\n",
       "    </tr>\n",
       "  </tbody>\n",
       "</table>\n",
       "<p>6 rows × 62 columns</p>\n",
       "</div>"
      ],
      "text/plain": [
       "    MinTemp   MaxTemp  Rainfall  WindGustSpeed  WindSpeed9am  WindSpeed3pm  \\\n",
       "4  0.646409  0.724816      0.40       0.551724      0.189189      0.512821   \n",
       "5  0.566298  0.660934      0.08       0.810345      0.513514      0.615385   \n",
       "6  0.558011  0.545455      0.00       0.706897      0.540541      0.615385   \n",
       "7  0.375691  0.587224      0.00       0.448276      0.162162      0.435897   \n",
       "8  0.430939  0.714988      0.00       0.517241      0.189189      0.717949   \n",
       "9  0.524862  0.670762      0.56       0.327586      0.405405      0.282051   \n",
       "\n",
       "   Humidity9am  Humidity3pm  Pressure9am  Pressure3pm  ...  WindDir9am_NNW  \\\n",
       "4     0.780488         0.33     0.293051     0.220544  ...             0.0   \n",
       "5     0.451220         0.23     0.244713     0.202417  ...             0.0   \n",
       "6     0.378049         0.19     0.256798     0.287009  ...             0.0   \n",
       "7     0.365854         0.19     0.371601     0.344411  ...             0.0   \n",
       "8     0.292683         0.09     0.235650     0.148036  ...             0.0   \n",
       "9     0.487805         0.27     0.178248     0.211480  ...             0.0   \n",
       "\n",
       "   WindDir9am_NW  WindDir9am_S  WindDir9am_SE  WindDir9am_SSE  WindDir9am_SSW  \\\n",
       "4            0.0           0.0            0.0             0.0             0.0   \n",
       "5            0.0           0.0            0.0             0.0             0.0   \n",
       "6            0.0           0.0            0.0             0.0             0.0   \n",
       "7            0.0           0.0            0.0             1.0             0.0   \n",
       "8            0.0           0.0            1.0             0.0             0.0   \n",
       "9            0.0           1.0            0.0             0.0             0.0   \n",
       "\n",
       "   WindDir9am_SW  WindDir9am_W  WindDir9am_WNW  WindDir9am_WSW  \n",
       "4            0.0           0.0             0.0             0.0  \n",
       "5            0.0           1.0             0.0             0.0  \n",
       "6            1.0           0.0             0.0             0.0  \n",
       "7            0.0           0.0             0.0             0.0  \n",
       "8            0.0           0.0             0.0             0.0  \n",
       "9            0.0           0.0             0.0             0.0  \n",
       "\n",
       "[6 rows x 62 columns]"
      ]
     },
     "execution_count": 48,
     "metadata": {},
     "output_type": "execute_result"
    }
   ],
   "source": [
    "# La prochaine étape est de standardiser nos données- utilisant MinMaxScaler\n",
    "from sklearn import preprocessing\n",
    "scaler = preprocessing.MinMaxScaler()\n",
    "scaler.fit(df)\n",
    "df = pd.DataFrame(scaler.transform(df), index=df.index, columns=df.columns)\n",
    "df.iloc[4:10]"
   ]
  },
  {
   "cell_type": "code",
   "execution_count": null,
   "metadata": {
    "id": "evL5LSbEzb-d"
   },
   "outputs": [],
   "source": [
    "X=df.drop(['RainTomorrow'],axis=1)\n",
    "y = df[['RainTomorrow']]"
   ]
  },
  {
   "cell_type": "code",
   "execution_count": 50,
   "metadata": {
    "id": "-iZHiwetzb-e"
   },
   "outputs": [],
   "source": [
    "#arbre de décision (decision tree) est une méthode d'apprentissage supervisé non paramétrique utilisée pour la classification et la régression. \n",
    "#son but est de créer un modèle qui prédit la valeur d'une variable cible"
   ]
  },
  {
   "cell_type": "code",
   "execution_count": 51,
   "metadata": {
    "colab": {
     "base_uri": "https://localhost:8080/"
    },
    "id": "zlYFmJDRzb-k",
    "outputId": "6246e597-752f-44ac-c3b3-9f456ba66a32"
   },
   "outputs": [
    {
     "name": "stdout",
     "output_type": "stream",
     "text": [
      "Accuracy : 0.8309638388560429\n",
      "Time taken : 2.1074483394622803\n"
     ]
    }
   ],
   "source": [
    "# Classificateur d'arbre de décision avec max_depth = 4\n",
    "from matplotlib import pyplot\n",
    "from sklearn.tree import DecisionTreeClassifier\n",
    "from sklearn.model_selection import train_test_split\n",
    "from sklearn.metrics import accuracy_score\n",
    "import time\n",
    "t0=time.time()\n",
    "X_train,X_test,y_train,y_test = train_test_split(X,y,test_size=0.25)\n",
    "clf_dt = DecisionTreeClassifier(random_state=0,min_samples_split=2,max_depth=4)\n",
    "clf_dt.fit(X_train,y_train)\n",
    "y_pred = clf_dt.predict(X_test)\n",
    "score = accuracy_score(y_test,y_pred)\n",
    "print('Accuracy :',score)\n",
    "print('Time taken :' , time.time()-t0)"
   ]
  },
  {
   "cell_type": "code",
   "execution_count": 52,
   "metadata": {
    "colab": {
     "base_uri": "https://localhost:8080/"
    },
    "id": "Oiv-V2wqzb-n",
    "outputId": "5eade257-d63c-4d41-b033-960fa010913f"
   },
   "outputs": [
    {
     "name": "stdout",
     "output_type": "stream",
     "text": [
      "Accuracy : 0.8244740822219166\n",
      "Time taken : 0.36411380767822266\n"
     ]
    }
   ],
   "source": [
    "# Classificateur d'arbre de décision avec max_depth = 2\n",
    "from matplotlib import pyplot\n",
    "from sklearn.tree import DecisionTreeClassifier\n",
    "from sklearn.model_selection import train_test_split\n",
    "from sklearn.metrics import accuracy_score\n",
    "import time\n",
    "t0=time.time()\n",
    "X_train,X_test,y_train,y_test = train_test_split(X,y,test_size=0.25)\n",
    "clf_dt = DecisionTreeClassifier(random_state=0,min_samples_split=2,max_depth=2)\n",
    "clf_dt.fit(X_train,y_train)\n",
    "y_pred = clf_dt.predict(X_test)\n",
    "score = accuracy_score(y_test,y_pred)\n",
    "print('Accuracy :',score)\n",
    "print('Time taken :' , time.time()-t0)"
   ]
  },
  {
   "cell_type": "code",
   "execution_count": 53,
   "metadata": {
    "colab": {
     "base_uri": "https://localhost:8080/"
    },
    "id": "0k6_g1oNzb-q",
    "outputId": "95d9bd86-05d6-4530-abe3-de50572d0d6c"
   },
   "outputs": [
    {
     "data": {
      "text/plain": [
       "{'max_depth': 7, 'min_samples_split': 4}"
      ]
     },
     "execution_count": 53,
     "metadata": {},
     "output_type": "execute_result"
    }
   ],
   "source": [
    "# Mellieur parametrage\n",
    "from sklearn.model_selection import GridSearchCV\n",
    "parametre = {\"max_depth\": [1, 2, 3, 4, 5, 6, 7],\n",
    "      \"min_samples_split\": [2, 3, 4, 8]}\n",
    "grid_search = GridSearchCV(DecisionTreeClassifier(), param_grid=parametre, cv=10)\n",
    "grid_search.fit(X_train, y_train)\n",
    "grid_search.best_params_"
   ]
  },
  {
   "cell_type": "code",
   "execution_count": 54,
   "metadata": {
    "colab": {
     "base_uri": "https://localhost:8080/",
     "height": 393
    },
    "id": "1pDDQlaVDXl0",
    "outputId": "b7dad3cf-968b-4b9b-a269-f03f8969f723"
   },
   "outputs": [
    {
     "name": "stdout",
     "output_type": "stream",
     "text": [
      ">1, train: 0.816, test: 0.815\n",
      ">2, train: 0.823, test: 0.823\n",
      ">3, train: 0.829, test: 0.829\n",
      ">4, train: 0.831, test: 0.831\n",
      ">5, train: 0.837, test: 0.837\n",
      ">6, train: 0.838, test: 0.838\n"
     ]
    },
    {
     "data": {
      "image/png": "[encoded data removed]",
      "text/plain": [
       "<Figure size 432x288 with 1 Axes>"
      ]
     },
     "metadata": {
      "needs_background": "light"
     },
     "output_type": "display_data"
    },
    {
     "name": "stdout",
     "output_type": "stream",
     "text": [
      "train_acc: 0.838, test_acc: 0.838\n"
     ]
    }
   ],
   "source": [
    "from sklearn.tree import DecisionTreeClassifier\n",
    "from sklearn.model_selection import train_test_split\n",
    "from sklearn.metrics import accuracy_score\n",
    "from matplotlib import pyplot\n",
    "X_train,X_test,y_train,y_test = train_test_split(X,y,test_size=0.25)\n",
    "# définir des listes pour collecter les scores\n",
    "train_scores, test_scores = list(), list()\n",
    "# définir les depths d'arbre à évaluer\n",
    "val = [i for i in range(1, 7)]\n",
    "# evaluer l'arbre de décision pour chaque depth\n",
    "for i in val:\n",
    "    dtc = DecisionTreeClassifier(max_depth=i,random_state=1,min_samples_split=4)\n",
    "    dtc.fit(X_train, y_train)\n",
    "    # evaluer le  train dataset\n",
    "    train_ydtc = dtc.predict(X_train)\n",
    "    train_acc = accuracy_score(y_train, train_ydtc)\n",
    "    train_scores.append(train_acc)\n",
    "    # evaluer le test dataset\n",
    "    test_ydtc = dtc.predict(X_test)\n",
    "    test_acc = accuracy_score(y_test, test_ydtc)\n",
    "    test_scores.append(test_acc)\n",
    "    print('>%d, train: %.3f, test: %.3f' % (i, train_acc, test_acc))\n",
    "# plot les scores de train et test vs tree depth\n",
    "pyplot.plot(val, train_scores, '-o', label='Train')\n",
    "pyplot.plot(val, test_scores, '-o', label='Test')\n",
    "pyplot.legend()\n",
    "pyplot.show()\n",
    "print('train_acc: %.3f, test_acc: %.3f' % (train_acc, test_acc))"
   ]
  },
  {
   "cell_type": "code",
   "execution_count": null,
   "metadata": {
    "id": "TXh3uwxbDvq0"
   },
   "outputs": [],
   "source": [
    "#le model est en overfitting (train_acc > test_acc)"
   ]
  },
  {
   "cell_type": "code",
   "execution_count": null,
   "metadata": {},
   "outputs": [],
   "source": []
  },
  {
   "cell_type": "code",
   "execution_count": 56,
   "metadata": {
    "colab": {
     "base_uri": "https://localhost:8080/"
    },
    "id": "nZzlSILUzb-t",
    "outputId": "2d5c14eb-1b0f-40b0-8180-b653b130674a"
   },
   "outputs": [
    {
     "name": "stdout",
     "output_type": "stream",
     "text": [
      "KNN accuracy :  0.792905266052523\n"
     ]
    }
   ],
   "source": [
    "#knn\n",
    "#La méthode de K plus proches voisins est une méthode simple,intuitive et non paramétrique. \n",
    "#Elle est basée sur la notion de voisinage. Son principe consiste à faire voter les plus proches voisins \n",
    "#afin de prédire l’appartenance d’un nouvel exemple en l’attribuant à la classe majoritaire tout en adoptant une métrique basée sur la distance.\n",
    "#les paramétres de knn sont : n_neighbors: Nombre de voisins à utiliser, weights: \n",
    "#Fonction de poids utilisée dans la prédiction. algorithm:\n",
    "#Algorithme utilisé pour calculer les plus proches voisins {‘auto’, ‘ball_tree’, ‘kd_tree’, ‘brute’},\n",
    "#leaf_size:Taille de la feuille passée à BallTree ou KDTree,p: Paramètre de puissance pour la métrique \n",
    "#de Minkowski. Lorsque p = 1, cela est équivalent à l'utilisation de manhattan_distance (l1), \n",
    "#et euclidean_distance (l2) pour p = 2. Pour p arbitraire, on utilise minkowski_distance (l_p), metric: \n",
    "#la métrique de distance utiliser pour l'arbre, n_jobs : Le nombre de parallel jobs à exécuter pour la \n",
    "#recherche de voisins.\n",
    "from sklearn.neighbors import KNeighborsClassifier\n",
    "knn_model = KNeighborsClassifier(n_neighbors=3,weights='uniform')\n",
    "predknn=knn_model.fit(X_train,y_train).predict(X_test)\n",
    "print(\"KNN accuracy : \",accuracy_score(y_test,predknn))"
   ]
  },
  {
   "cell_type": "code",
   "execution_count": 57,
   "metadata": {
    "colab": {
     "base_uri": "https://localhost:8080/"
    },
    "id": "PIMFqso_zb-w",
    "outputId": "6f6c2b90-1a4c-4064-8927-6589e9a576f6"
   },
   "outputs": [
    {
     "name": "stdout",
     "output_type": "stream",
     "text": [
      "KNN accuracy :  0.7668362436408634\n"
     ]
    }
   ],
   "source": [
    "from sklearn.neighbors import KNeighborsClassifier\n",
    "knn_model = KNeighborsClassifier(n_neighbors=2,weights= 'distance')\n",
    "predknn=knn_model.fit(X_train,y_train).predict(X_test)\n",
    "print(\"KNN accuracy : \",accuracy_score(y_test,predknn))"
   ]
  },
  {
   "cell_type": "code",
   "execution_count": 96,
   "metadata": {
    "colab": {
     "base_uri": "https://localhost:8080/",
     "height": 1000
    },
    "id": "bp5soYV8zb-1",
    "outputId": "5712cb64-6721-45ba-cb64-4bae0f0e1d9c"
   },
   "outputs": [
    {
     "name": "stdout",
     "output_type": "stream",
     "text": [
      "Accuracy : 0.8407534717448095\n",
      "Time taken : 0.6651747226715088\n",
      "('MinTemp', 0.01469570552233446)\n",
      "('MaxTemp', 0.010968770583292438)\n",
      "('Rainfall', 0.0054071622776424135)\n",
      "('WindGustSpeed', 0.05168179473371802)\n",
      "('WindSpeed9am', 0.0011605630059774706)\n",
      "('WindSpeed3pm', 0.0)\n",
      "('Humidity9am', 0.007837987947385402)\n",
      "('Humidity3pm', 0.7221497155903084)\n",
      "('Pressure9am', 0.00629481949976916)\n",
      "('Pressure3pm', 0.08141328515679844)\n",
      "('Temp9am', 0.0012366787521602444)\n",
      "('Temp3pm', 0.008330320581390323)\n",
      "('RainToday', 0.07831650553358963)\n",
      "('RainTomorrow', 0.0)\n",
      "('WindGustDir_E', 0.0)\n",
      "('WindGustDir_ENE', 0.0)\n",
      "('WindGustDir_ESE', 0.0)\n",
      "('WindGustDir_N', 0.0009615566224702742)\n",
      "('WindGustDir_NE', 0.0)\n",
      "('WindGustDir_NNE', 0.0005052482334546979)\n",
      "('WindGustDir_NNW', 0.0)\n",
      "('WindGustDir_NW', 0.0)\n",
      "('WindGustDir_S', 0.0)\n",
      "('WindGustDir_SE', 0.0)\n",
      "('WindGustDir_SSE', 0.0002861260729541343)\n",
      "('WindGustDir_SSW', 0.0003114359807293293)\n",
      "('WindGustDir_SW', 0.0)\n",
      "('WindGustDir_W', 0.0)\n",
      "('WindGustDir_WNW', 0.0)\n",
      "('WindGustDir_WSW', 0.0)\n",
      "('WindDir3pm_E', 0.0)\n",
      "('WindDir3pm_ENE', 0.0)\n",
      "('WindDir3pm_ESE', 0.004392631995487157)\n",
      "('WindDir3pm_N', 0.0003469706565165379)\n",
      "('WindDir3pm_NE', 0.0)\n",
      "('WindDir3pm_NNE', 0.00225825857144567)\n",
      "('WindDir3pm_NNW', 0.00022542419392652756)\n",
      "('WindDir3pm_NW', 0.0)\n",
      "('WindDir3pm_S', 0.0)\n",
      "('WindDir3pm_SE', 0.0)\n",
      "('WindDir3pm_SSE', 0.0)\n",
      "('WindDir3pm_SSW', 0.0)\n",
      "('WindDir3pm_SW', 0.0003057324431772044)\n",
      "('WindDir3pm_W', 0.0)\n",
      "('WindDir3pm_WNW', 0.0)\n",
      "('WindDir3pm_WSW', 0.0)\n",
      "('WindDir9am_E', 0.0)\n",
      "('WindDir9am_ENE', 0.0)\n",
      "('WindDir9am_ESE', 0.0)\n",
      "('WindDir9am_N', 0.0)\n",
      "('WindDir9am_NE', 0.0004895693348610182)\n",
      "('WindDir9am_NNE', 0.0)\n",
      "('WindDir9am_NNW', 0.0)\n",
      "('WindDir9am_NW', 0.00042373671061097303)\n",
      "('WindDir9am_S', 0.0)\n",
      "('WindDir9am_SE', 0.0)\n",
      "('WindDir9am_SSE', 0.0)\n",
      "('WindDir9am_SSW', 0.0)\n",
      "('WindDir9am_SW', 0.0)\n",
      "('WindDir9am_W', 0.0)\n",
      "('WindDir9am_WNW', 0.0)\n"
     ]
    },
    {
     "data": {
      "image/png": "[encoded data removed]",
      "text/plain": [
       "<Figure size 432x288 with 1 Axes>"
      ]
     },
     "metadata": {
      "needs_background": "light",
      "tags": []
     },
     "output_type": "display_data"
    }
   ],
   "source": [
    "#Classificateur d'arbre de décision\n",
    "from matplotlib import pyplot\n",
    "from sklearn.tree import DecisionTreeClassifier\n",
    "from sklearn.model_selection import train_test_split\n",
    "from sklearn.metrics import accuracy_score\n",
    "import time\n",
    "t0=time.time()\n",
    "X_train,X_test,y_train,y_test = train_test_split(X,y,test_size=0.25)\n",
    "clf_dt = DecisionTreeClassifier(random_state=1,min_samples_split=4,max_depth=7)\n",
    "clf_dt.fit(X_train,y_train)\n",
    "y_pred = clf_dt.predict(X_test)\n",
    "score = accuracy_score(y_test,y_pred)\n",
    "print('Accuracy :',score)\n",
    "print('Time taken :' , time.time()-t0)\n",
    "#feature importance\n",
    "importance = clf_dt.feature_importances_\n",
    "feat_labels = []\n",
    "for i in df:\n",
    "  feat_labels.append(i)\n",
    "for f in zip(feat_labels, clf_dt.feature_importances_):\n",
    "    print(f) #Affichage de feature et leur score\n",
    "# plot feature importance\n",
    "pyplot.bar([x for x in range(len(importance))], importance)\n",
    "pyplot.show()\n",
    "#humidity3pm est le feature le plus important"
   ]
  },
  {
   "cell_type": "code",
   "execution_count": 97,
   "metadata": {
    "colab": {
     "base_uri": "https://localhost:8080/"
    },
    "id": "tuWs5Oo2zb-3",
    "outputId": "100fb1f2-199f-42cc-abcb-5ef7a7878e22"
   },
   "outputs": [
    {
     "name": "stdout",
     "output_type": "stream",
     "text": [
      "Index(['Humidity9am', 'Humidity3pm', 'RainToday'], dtype='object')\n"
     ]
    }
   ],
   "source": [
    "# Cherchant les features les plus importates pour la sortie RainTomorrow!\n",
    "# En utilisant SelectKBest \n",
    "from sklearn.feature_selection import SelectKBest, chi2\n",
    "X = df.loc[:,df.columns!='RainTomorrow']\n",
    "y = df[['RainTomorrow']]\n",
    "selector = SelectKBest(chi2, k=3)\n",
    "selector.fit(X, y)\n",
    "X_new = selector.transform(X)\n",
    "print(X.columns[selector.get_support(indices=True)]) #top 3 columns"
   ]
  },
  {
   "cell_type": "code",
   "execution_count": 98,
   "metadata": {
    "id": "W0i6l827zb-7"
   },
   "outputs": [],
   "source": [
    "df = df[['Humidity3pm','Rainfall','RainToday','RainTomorrow']]\n",
    "X = df[['Humidity3pm']] # nous allos utiliser uniquement le feature \"humiditi3pm' parcequ'il a le score le plus élvé\n",
    "y = df[['RainTomorrow']]"
   ]
  },
  {
   "cell_type": "code",
   "execution_count": 118,
   "metadata": {
    "colab": {
     "base_uri": "https://localhost:8080/"
    },
    "id": "ChCJinNxzb-8",
    "outputId": "e6e1a428-c22d-4181-8756-aa5765f172e8"
   },
   "outputs": [
    {
     "name": "stdout",
     "output_type": "stream",
     "text": [
      "Accuracy : 0.8280214491956551\n",
      "Time taken : 0.05339789390563965\n"
     ]
    }
   ],
   "source": [
    "#Classificateur d'arbre de décision\n",
    "from matplotlib import pyplot\n",
    "from sklearn.tree import DecisionTreeClassifier\n",
    "from sklearn.model_selection import train_test_split\n",
    "from sklearn.metrics import accuracy_score\n",
    "import time\n",
    "t0=time.time()\n",
    "X_train,X_test,y_train,y_test = train_test_split(X,y,test_size=0.25)\n",
    "clf_dt = DecisionTreeClassifier(random_state=1,min_samples_split=4,max_depth=7)\n",
    "clf_dt.fit(X_train,y_train)\n",
    "y_pred = clf_dt.predict(X_test)\n",
    "score = accuracy_score(y_test,y_pred)\n",
    "print('Accuracy :',score)\n",
    "print('Time taken :' , time.time()-t0)"
   ]
  },
  {
   "cell_type": "code",
   "execution_count": 124,
   "metadata": {
    "colab": {
     "base_uri": "https://localhost:8080/",
     "height": 396
    },
    "id": "BR48OwkWzb--",
    "outputId": "e500d9dc-9760-4f53-a98a-45c07301ba06"
   },
   "outputs": [
    {
     "name": "stdout",
     "output_type": "stream",
     "text": [
      ">1, train: 0.816, test: 0.814\n",
      ">2, train: 0.821, test: 0.822\n",
      ">3, train: 0.826, test: 0.825\n",
      ">4, train: 0.826, test: 0.825\n",
      ">5, train: 0.826, test: 0.825\n",
      ">6, train: 0.826, test: 0.825\n"
     ]
    },
    {
     "data": {
      "image/png": "[encoded data removed]",
      "text/plain": [
       "<Figure size 432x288 with 1 Axes>"
      ]
     },
     "metadata": {
      "needs_background": "light",
      "tags": []
     },
     "output_type": "display_data"
    },
    {
     "name": "stdout",
     "output_type": "stream",
     "text": [
      "train_acc: 0.826, test_acc: 0.825\n"
     ]
    }
   ],
   "source": [
    "from sklearn.tree import DecisionTreeClassifier\n",
    "from sklearn.model_selection import train_test_split\n",
    "from sklearn.metrics import accuracy_score\n",
    "from matplotlib import pyplot\n",
    "X_train,X_test,y_train,y_test = train_test_split(X,y,test_size=0.25)\n",
    "# define lists to collect scores\n",
    "train_scores, test_scores = list(), list()\n",
    "# define the tree depths to evaluate\n",
    "val = [i for i in range(1, 7)]\n",
    "# evaluer l'arbre de décision pour chaque depth\n",
    "for i in val:\n",
    "    dtc = DecisionTreeClassifier(max_depth=i,random_state=1,min_samples_split=2)\n",
    "    dtc.fit(X_train, y_train)\n",
    "    # evaluer le  train dataset\n",
    "    train_ydtc = dtc.predict(X_train)\n",
    "    train_acc = accuracy_score(y_train, train_ydtc)\n",
    "    train_scores.append(train_acc)\n",
    "    # evaluer le test dataset\n",
    "    test_ydtc = dtc.predict(X_test)\n",
    "    test_acc = accuracy_score(y_test, test_ydtc)\n",
    "    test_scores.append(test_acc)\n",
    "    # summarize progress\n",
    "    print('>%d, train: %.3f, test: %.3f' % (i, train_acc, test_acc))\n",
    "# plot les scores de train et test vs tree depth\n",
    "pyplot.plot(val, train_scores, '-o', label='Train')\n",
    "pyplot.plot(val, test_scores, '-o', label='Test')\n",
    "pyplot.legend()\n",
    "pyplot.show()\n",
    "print('train_acc: %.3f, test_acc: %.3f' % (train_acc, test_acc))"
   ]
  },
  {
   "cell_type": "code",
   "execution_count": 101,
   "metadata": {
    "colab": {
     "base_uri": "https://localhost:8080/",
     "height": 295
    },
    "id": "8g6uwGOXzb-_",
    "outputId": "32bc28d4-8da2-4f95-c694-98a961ee5afd"
   },
   "outputs": [
    {
     "data": {
      "image/png": "[encoded data removed]",
      "text/plain": [
       "<Figure size 432x288 with 1 Axes>"
      ]
     },
     "metadata": {
      "needs_background": "light",
      "tags": []
     },
     "output_type": "display_data"
    }
   ],
   "source": [
    "from sklearn.metrics import roc_curve,auc\n",
    "pred_clf_prob=clf_dt.fit(X_train,y_train).predict_proba(X_test)\n",
    "fpr_clf,tpr_clf,thresholds = roc_curve(y_test,pred_clf_prob[:,1])\n",
    "roc_auc= auc(fpr_clf,tpr_clf)\n",
    "plt.plot(fpr_clf, tpr_clf, 'b', label = 'AUC = %0.2f' % roc_auc)\n",
    "plt.legend(loc = 'lower right')\n",
    "plt.ylabel('True Positive Rate')\n",
    "plt.xlabel('False Positive Rate')\n",
    "plt.title('ROC Curve of DecisionTree')\n",
    "plt.grid(True)"
   ]
  },
  {
   "cell_type": "code",
   "execution_count": 102,
   "metadata": {
    "colab": {
     "base_uri": "https://localhost:8080/"
    },
    "id": "1lWlmeFozb_B",
    "outputId": "5c7de725-e260-4756-d3e1-e467b594ef0e"
   },
   "outputs": [
    {
     "name": "stdout",
     "output_type": "stream",
     "text": [
      "KNN accuracy :  0.782730647600715\n"
     ]
    }
   ],
   "source": [
    "from sklearn.neighbors import KNeighborsClassifier\n",
    "knn_model = KNeighborsClassifier(n_neighbors=3)\n",
    "predknn=knn_model.fit(X_train,y_train).predict(X_test)\n",
    "print(\"KNN accuracy : \",accuracy_score(y_test,predknn))"
   ]
  },
  {
   "cell_type": "code",
   "execution_count": 103,
   "metadata": {
    "colab": {
     "base_uri": "https://localhost:8080/",
     "height": 295
    },
    "id": "M0extgt0zb_C",
    "outputId": "86b95feb-dfcc-4b3c-cca3-ed27b7cf33de"
   },
   "outputs": [
    {
     "data": {
      "image/png": "[encoded data removed]",
      "text/plain": [
       "<Figure size 432x288 with 1 Axes>"
      ]
     },
     "metadata": {
      "needs_background": "light",
      "tags": []
     },
     "output_type": "display_data"
    }
   ],
   "source": [
    "pred_knn_prob=knn_model.fit(X_train,y_train).predict_proba(X_test)\n",
    "fpr_knn,tpr_knn,thresholds = roc_curve(y_test,pred_knn_prob[:,1])\n",
    "roc_auc= auc(fpr_knn,tpr_knn)\n",
    "plt.plot(fpr_knn, tpr_knn, 'b', label = 'AUC = %0.2f' % roc_auc)\n",
    "plt.legend(loc = 'lower right')\n",
    "plt.ylabel('True Positive Rate')\n",
    "plt.xlabel('False Positive Rate')\n",
    "plt.title('ROC Curve of kNN')\n",
    "#plt.plot(fpr_knn,tpr_knn)\n",
    "plt.grid(True)"
   ]
  },
  {
   "cell_type": "code",
   "execution_count": 103,
   "metadata": {
    "id": "NPqoOaxIzb_F"
   },
   "outputs": [],
   "source": [
    "#coclusion\n",
    "#nous avons réduit le surapprentissage après la selection de feature \n",
    "#le model decision tree est plus performant que le model knn "
   ]
  },
  {
   "cell_type": "code",
   "execution_count": 103,
   "metadata": {
    "id": "LdwdMUbUzb_H"
   },
   "outputs": [],
   "source": []
  },
  {
   "cell_type": "code",
   "execution_count": 103,
   "metadata": {
    "id": "K7tKiT3Yzb_I"
   },
   "outputs": [],
   "source": []
  },
  {
   "cell_type": "code",
   "execution_count": 103,
   "metadata": {
    "id": "zc9ckHIKzb_N"
   },
   "outputs": [],
   "source": []
  }
 ],
 "metadata": {
  "accelerator": "GPU",
  "colab": {
   "collapsed_sections": [],
   "name": "Ghazlane(2)(1)(2)(3).ipynb",
   "provenance": []
  },
  "kernelspec": {
   "display_name": "Python 3",
   "language": "python",
   "name": "python3"
  },
  "language_info": {
   "codemirror_mode": {
    "name": "ipython",
    "version": 3
   },
   "file_extension": ".py",
   "mimetype": "text/x-python",
   "name": "python",
   "nbconvert_exporter": "python",
   "pygments_lexer": "ipython3",
   "version": "3.8.5"
  }
 },
 "nbformat": 4,
 "nbformat_minor": 1
}
